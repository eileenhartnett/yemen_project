{
 "cells": [
  {
   "cell_type": "markdown",
   "metadata": {},
   "source": [
    "## Project 5 - Data Cleaning"
   ]
  },
  {
   "cell_type": "markdown",
   "metadata": {},
   "source": [
    "### Import libraries"
   ]
  },
  {
   "cell_type": "code",
   "execution_count": 1,
   "metadata": {},
   "outputs": [],
   "source": [
    "import pandas as pd"
   ]
  },
  {
   "cell_type": "markdown",
   "metadata": {},
   "source": [
    "### Load data"
   ]
  },
  {
   "cell_type": "code",
   "execution_count": 2,
   "metadata": {},
   "outputs": [],
   "source": [
    "df = pd.read_csv('yemen.csv', encoding='cp1252')"
   ]
  },
  {
   "cell_type": "markdown",
   "metadata": {},
   "source": [
    "### Checkout null values"
   ]
  },
  {
   "cell_type": "code",
   "execution_count": 3,
   "metadata": {},
   "outputs": [
    {
     "data": {
      "text/plain": [
       "Incident ID                0\n",
       "Date                       0\n",
       "Governorate                0\n",
       "District                 238\n",
       "Area                    3299\n",
       "Target                     0\n",
       "Main category              0\n",
       "Sub-category               0\n",
       "Min Air Raids              0\n",
       "Max Air Raids              2\n",
       "Civilian Casualties        0\n",
       "Fatalities                 0\n",
       "Woman fatalities           0\n",
       "Child fatalities           0\n",
       "Injured                    0\n",
       "Woman injured              0\n",
       "Child injured              2\n",
       " Confirmed Time          146\n",
       "Time of Day                0\n",
       "Unnamed: 19            22360\n",
       "Unnamed: 20            22360\n",
       "Unnamed: 21            22360\n",
       "Unnamed: 22            22436\n",
       "dtype: int64"
      ]
     },
     "execution_count": 3,
     "metadata": {},
     "output_type": "execute_result"
    }
   ],
   "source": [
    "df.isnull().sum()"
   ]
  },
  {
   "cell_type": "markdown",
   "metadata": {},
   "source": [
    "**Drop Columns:** \n",
    "- Unnamed: 19 \n",
    "- Unnamed: 20 \n",
    "- Unnamed: 21 \n",
    "- Unnamed: 22 \n",
    "\n",
    "These columns are mainly missing values and the information in the non-missing cells is duplicated in other columns."
   ]
  },
  {
   "cell_type": "code",
   "execution_count": 4,
   "metadata": {},
   "outputs": [],
   "source": [
    "df.drop(columns = ['Unnamed: 19', 'Unnamed: 20', 'Unnamed: 21', 'Unnamed: 22'], inplace=True)"
   ]
  },
  {
   "cell_type": "code",
   "execution_count": 5,
   "metadata": {},
   "outputs": [
    {
     "data": {
      "text/plain": [
       "5805"
      ]
     },
     "execution_count": 5,
     "metadata": {},
     "output_type": "execute_result"
    }
   ],
   "source": [
    "len(df['Area'].unique())"
   ]
  },
  {
   "cell_type": "code",
   "execution_count": 6,
   "metadata": {},
   "outputs": [],
   "source": [
    "#df = df.drop(columns=['Unnamed: 19', 'Unnamed: 20',\n",
    "#       'Unnamed: 21', 'Unnamed: 22'])"
   ]
  },
  {
   "cell_type": "code",
   "execution_count": 7,
   "metadata": {},
   "outputs": [],
   "source": [
    "# df['Child injured'] = df['Child injured'].fillna(df['Child injured'].mean())\n",
    "# df['Max Air Raids'] = df['Max Air Raids'].fillna(df['Max Air Raids'].mean())"
   ]
  },
  {
   "cell_type": "code",
   "execution_count": 8,
   "metadata": {},
   "outputs": [
    {
     "data": {
      "text/plain": [
       "0      20667\n",
       "2        224\n",
       "5        212\n",
       "1        199\n",
       "3        194\n",
       "       ...  \n",
       "77         1\n",
       "101        1\n",
       "85         1\n",
       "100        1\n",
       "95         1\n",
       "Name: Civilian Casualties, Length: 89, dtype: int64"
      ]
     },
     "execution_count": 8,
     "metadata": {},
     "output_type": "execute_result"
    }
   ],
   "source": [
    "df['Civilian Casualties'].value_counts()"
   ]
  },
  {
   "cell_type": "code",
   "execution_count": 9,
   "metadata": {
    "scrolled": true
   },
   "outputs": [
    {
     "data": {
      "text/plain": [
       "Unknown                     8496\n",
       "Military_Security_Target    7385\n",
       "Civilian                    2879\n",
       "Infrastructure              1447\n",
       "Economic_infrastructure     1080\n",
       "Economic_Infrastructure      298\n",
       "Political_Tribal             294\n",
       "Educational_facility         240\n",
       "Educational_Facility         150\n",
       "Cultural_heritage             73\n",
       "Medical_Facility              60\n",
       "Medical_facility              26\n",
       "Media                         24\n",
       "international_community       13\n",
       "Political_Tribal              11\n",
       "International_community        6\n",
       "cultural_heritage              2\n",
       "International_Community        1\n",
       "Name: Main category, dtype: int64"
      ]
     },
     "execution_count": 9,
     "metadata": {},
     "output_type": "execute_result"
    }
   ],
   "source": [
    "df['Main category'].value_counts()"
   ]
  },
  {
   "cell_type": "markdown",
   "metadata": {},
   "source": [
    "### Clean up columns"
   ]
  },
  {
   "cell_type": "markdown",
   "metadata": {},
   "source": [
    "#### Column names"
   ]
  },
  {
   "cell_type": "code",
   "execution_count": 10,
   "metadata": {},
   "outputs": [],
   "source": [
    "# Clean up column names: Remove spaces, make lowercase, replace space with underscore\n",
    "df.columns = df.columns.str.strip().str.lower().str.replace(' ', '_').str.replace('-','_')"
   ]
  },
  {
   "cell_type": "code",
   "execution_count": 11,
   "metadata": {},
   "outputs": [
    {
     "data": {
      "text/plain": [
       "Index(['incident_id', 'date', 'governorate', 'district', 'area', 'target',\n",
       "       'main_category', 'sub_category', 'min_air_raids', 'max_air_raids',\n",
       "       'civilian_casualties', 'fatalities', 'woman_fatalities',\n",
       "       'child_fatalities', 'injured', 'woman_injured', 'child_injured',\n",
       "       'confirmed_time', 'time_of_day'],\n",
       "      dtype='object')"
      ]
     },
     "execution_count": 11,
     "metadata": {},
     "output_type": "execute_result"
    }
   ],
   "source": [
    "df.columns"
   ]
  },
  {
   "cell_type": "markdown",
   "metadata": {},
   "source": [
    "#### Column values"
   ]
  },
  {
   "cell_type": "code",
   "execution_count": 12,
   "metadata": {},
   "outputs": [
    {
     "data": {
      "text/plain": [
       "DatetimeIndex(['2015-03-26', '2015-03-26', '2015-03-26', '2015-03-26',\n",
       "               '2015-03-26', '2015-03-26', '2015-03-26', '2015-03-26',\n",
       "               '2015-03-26', '2015-03-26',\n",
       "               ...\n",
       "               '2020-12-29', '2020-12-30', '2020-12-30', '2020-12-30',\n",
       "               '2020-12-31', '2020-12-31', '2020-12-31', '2020-12-31',\n",
       "               '2020-12-31', '2020-12-31'],\n",
       "              dtype='datetime64[ns]', name='date', length=22485, freq=None)"
      ]
     },
     "execution_count": 12,
     "metadata": {},
     "output_type": "execute_result"
    }
   ],
   "source": [
    "# date: make index and convert to datetime \n",
    "df.set_index('date', inplace=True)\n",
    "df.index = pd.to_datetime(df.index)\n",
    "df.index"
   ]
  },
  {
   "cell_type": "code",
   "execution_count": 13,
   "metadata": {},
   "outputs": [],
   "source": [
    "# incident id"
   ]
  },
  {
   "cell_type": "code",
   "execution_count": 15,
   "metadata": {},
   "outputs": [
    {
     "data": {
      "text/html": [
       "<div>\n",
       "<style scoped>\n",
       "    .dataframe tbody tr th:only-of-type {\n",
       "        vertical-align: middle;\n",
       "    }\n",
       "\n",
       "    .dataframe tbody tr th {\n",
       "        vertical-align: top;\n",
       "    }\n",
       "\n",
       "    .dataframe thead th {\n",
       "        text-align: right;\n",
       "    }\n",
       "</style>\n",
       "<table border=\"1\" class=\"dataframe\">\n",
       "  <thead>\n",
       "    <tr style=\"text-align: right;\">\n",
       "      <th></th>\n",
       "      <th>incident_id</th>\n",
       "      <th>governorate</th>\n",
       "      <th>district</th>\n",
       "      <th>area</th>\n",
       "      <th>target</th>\n",
       "      <th>main_category</th>\n",
       "      <th>sub_category</th>\n",
       "      <th>min_air_raids</th>\n",
       "      <th>max_air_raids</th>\n",
       "      <th>civilian_casualties</th>\n",
       "      <th>fatalities</th>\n",
       "      <th>woman_fatalities</th>\n",
       "      <th>child_fatalities</th>\n",
       "      <th>injured</th>\n",
       "      <th>woman_injured</th>\n",
       "      <th>child_injured</th>\n",
       "      <th>confirmed_time</th>\n",
       "      <th>time_of_day</th>\n",
       "    </tr>\n",
       "    <tr>\n",
       "      <th>date</th>\n",
       "      <th></th>\n",
       "      <th></th>\n",
       "      <th></th>\n",
       "      <th></th>\n",
       "      <th></th>\n",
       "      <th></th>\n",
       "      <th></th>\n",
       "      <th></th>\n",
       "      <th></th>\n",
       "      <th></th>\n",
       "      <th></th>\n",
       "      <th></th>\n",
       "      <th></th>\n",
       "      <th></th>\n",
       "      <th></th>\n",
       "      <th></th>\n",
       "      <th></th>\n",
       "      <th></th>\n",
       "    </tr>\n",
       "  </thead>\n",
       "  <tbody>\n",
       "  </tbody>\n",
       "</table>\n",
       "</div>"
      ],
      "text/plain": [
       "Empty DataFrame\n",
       "Columns: [incident_id, governorate, district, area, target, main_category, sub_category, min_air_raids, max_air_raids, civilian_casualties, fatalities, woman_fatalities, child_fatalities, injured, woman_injured, child_injured, confirmed_time, time_of_day]\n",
       "Index: []"
      ]
     },
     "execution_count": 15,
     "metadata": {},
     "output_type": "execute_result"
    }
   ],
   "source": [
    "df[df['governorate'] == 'sanaa']"
   ]
  },
  {
   "cell_type": "code",
   "execution_count": null,
   "metadata": {},
   "outputs": [],
   "source": [
    "# governorate\n",
    "df['governorate'].value_counts()"
   ]
  },
  {
   "cell_type": "code",
   "execution_count": null,
   "metadata": {},
   "outputs": [],
   "source": [
    "# district\n",
    "district_list = []\n",
    "for value in df['district']:\n",
    "    value = str(value).lower().strip()\n",
    "    district_list.append(value)\n",
    "\n",
    "df['district'] = district_list"
   ]
  },
  {
   "cell_type": "code",
   "execution_count": null,
   "metadata": {},
   "outputs": [],
   "source": [
    "# area\n",
    "df['area'].value_counts()"
   ]
  },
  {
   "cell_type": "code",
   "execution_count": null,
   "metadata": {},
   "outputs": [],
   "source": [
    "# target\n",
    "df['target'].value_counts()"
   ]
  },
  {
   "cell_type": "code",
   "execution_count": null,
   "metadata": {},
   "outputs": [],
   "source": [
    "# main_category\n",
    "main_category_list = []\n",
    "for value in df['main_category']:\n",
    "    value = value.lower().strip()\n",
    "    main_category_list.append(value)\n",
    "df['main_category'] = main_category_list"
   ]
  },
  {
   "cell_type": "code",
   "execution_count": null,
   "metadata": {},
   "outputs": [],
   "source": [
    "# sub-category\n",
    "sub_category_list = []\n",
    "for value in df['sub_category']:\n",
    "    value = value.lower().strip()\n",
    "    sub_category_list.append(value)\n",
    "df['sub_category'] = sub_category_list"
   ]
  },
  {
   "cell_type": "code",
   "execution_count": null,
   "metadata": {},
   "outputs": [],
   "source": [
    "# min_air_raids\n",
    "df['min_air_raids'].isnull().sum()"
   ]
  },
  {
   "cell_type": "code",
   "execution_count": null,
   "metadata": {
    "pycharm": {
     "name": "#%%\n"
    }
   },
   "outputs": [],
   "source": [
    "# max_air_raids\n",
    "max_air_raids = []\n",
    "for value in df['max_air_raids']:\n",
    "    if value == '2,2':\n",
    "        val = 2\n",
    "    elif value != '-' and type(value) != float:\n",
    "        val = int(value.strip('+'))\n",
    "    elif type(value) == float:\n",
    "        val = value\n",
    "    else:\n",
    "        val = 0\n",
    "    max_air_raids.append(val)\n",
    "df['max_air_raids'] = max_air_raids"
   ]
  },
  {
   "cell_type": "code",
   "execution_count": null,
   "metadata": {},
   "outputs": [],
   "source": [
    "# civilian_casualties\n",
    "df['civilian_casualties'].isnull().sum()"
   ]
  },
  {
   "cell_type": "code",
   "execution_count": null,
   "metadata": {},
   "outputs": [],
   "source": [
    "# fatalities\n",
    "df['fatalities'].isnull().sum()"
   ]
  },
  {
   "cell_type": "code",
   "execution_count": null,
   "metadata": {},
   "outputs": [],
   "source": [
    "# woman_fatalities\n",
    "df['woman_fatalities'].isnull().sum()"
   ]
  },
  {
   "cell_type": "code",
   "execution_count": null,
   "metadata": {},
   "outputs": [],
   "source": [
    "# child_fatalities\n",
    "df['child_fatalities'].isnull().sum()"
   ]
  },
  {
   "cell_type": "code",
   "execution_count": null,
   "metadata": {},
   "outputs": [],
   "source": [
    "# injured\n",
    "df['injured'].isnull().sum()"
   ]
  },
  {
   "cell_type": "code",
   "execution_count": null,
   "metadata": {},
   "outputs": [],
   "source": [
    "# woman_injured\n",
    "df['woman_injured'].isnull().sum()"
   ]
  },
  {
   "cell_type": "code",
   "execution_count": null,
   "metadata": {},
   "outputs": [],
   "source": [
    "# child_injured\n",
    "df['child_injured'] = df['child_injured'].fillna(df['child_injured'].median())"
   ]
  },
  {
   "cell_type": "code",
   "execution_count": null,
   "metadata": {},
   "outputs": [],
   "source": [
    "# confirmed_time\n",
    "df['confirmed_time'] = df['confirmed_time'].replace(\n",
    "    {'Unkn': 'Unknown', 'unkn': 'Unknown', '41': 'Unknown'})\n",
    "df['confirmed_time'].value_counts()"
   ]
  },
  {
   "cell_type": "code",
   "execution_count": null,
   "metadata": {},
   "outputs": [],
   "source": [
    "# time_of_day \n",
    "df['time_of_day'] = df['time_of_day'].str.lower()\n",
    "df['time_of_day'] = df['time_of_day'].replace([' midday'], 'afternoon')\n",
    "df['time_of_day'] = df['time_of_day'].replace(['midday'], 'afternoon')\n",
    "df['time_of_day'] = df['time_of_day'].replace(['evening'], 'night')\n",
    "df['time_of_day'] = df['time_of_day'].replace(['early-morning'], 'morning')\n",
    "df['time_of_day'] = df['time_of_day'].replace(['early morning'], 'morning')"
   ]
  },
  {
   "cell_type": "code",
   "execution_count": null,
   "metadata": {
    "pycharm": {
     "name": "#%%\n"
    }
   },
   "outputs": [],
   "source": [
    "df['target'].value_counts()"
   ]
  },
  {
   "cell_type": "code",
   "execution_count": null,
   "metadata": {},
   "outputs": [],
   "source": [
    "df"
   ]
  },
  {
   "cell_type": "code",
   "execution_count": null,
   "metadata": {},
   "outputs": [],
   "source": [
    "df[df.index == '2015-03-28']"
   ]
  },
  {
   "cell_type": "code",
   "execution_count": null,
   "metadata": {},
   "outputs": [],
   "source": []
  },
  {
   "cell_type": "code",
   "execution_count": null,
   "metadata": {},
   "outputs": [],
   "source": []
  },
  {
   "cell_type": "code",
   "execution_count": null,
   "metadata": {},
   "outputs": [],
   "source": []
  },
  {
   "cell_type": "code",
   "execution_count": null,
   "metadata": {},
   "outputs": [],
   "source": []
  }
 ],
 "metadata": {
  "kernelspec": {
   "display_name": "Python 3",
   "language": "python",
   "name": "python3"
  },
  "language_info": {
   "codemirror_mode": {
    "name": "ipython",
    "version": 3
   },
   "file_extension": ".py",
   "mimetype": "text/x-python",
   "name": "python",
   "nbconvert_exporter": "python",
   "pygments_lexer": "ipython3",
   "version": "3.8.5"
  },
  "toc": {
   "base_numbering": 1,
   "nav_menu": {},
   "number_sections": true,
   "sideBar": true,
   "skip_h1_title": false,
   "title_cell": "Table of Contents",
   "title_sidebar": "Contents",
   "toc_cell": false,
   "toc_position": {},
   "toc_section_display": true,
   "toc_window_display": false
  }
 },
 "nbformat": 4,
 "nbformat_minor": 4
}
