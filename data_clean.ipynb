{
 "cells": [
  {
   "cell_type": "markdown",
   "metadata": {},
   "source": [
    "## Project 5 - Data Cleaning"
   ]
  },
  {
   "cell_type": "markdown",
   "metadata": {},
   "source": [
    "### Import libraries"
   ]
  },
  {
   "cell_type": "code",
   "execution_count": 1,
   "metadata": {},
   "outputs": [],
   "source": [
    "import pandas as pd\n",
    "import math"
   ]
  },
  {
   "cell_type": "markdown",
   "metadata": {},
   "source": [
    "### Load data"
   ]
  },
  {
   "cell_type": "code",
   "execution_count": 2,
   "metadata": {},
   "outputs": [],
   "source": [
    "df = pd.read_csv('yemen.csv', encoding='cp1252')"
   ]
  },
  {
   "cell_type": "markdown",
   "metadata": {},
   "source": [
    "### Checkout null values"
   ]
  },
  {
   "cell_type": "code",
   "execution_count": 3,
   "metadata": {},
   "outputs": [
    {
     "data": {
      "text/plain": [
       "Incident ID                0\n",
       "Date                       0\n",
       "Governorate                0\n",
       "District                 238\n",
       "Area                    3299\n",
       "Target                     0\n",
       "Main category              0\n",
       "Sub-category               0\n",
       "Min Air Raids              0\n",
       "Max Air Raids              2\n",
       "Civilian Casualties        0\n",
       "Fatalities                 0\n",
       "Woman fatalities           0\n",
       "Child fatalities           0\n",
       "Injured                    0\n",
       "Woman injured              0\n",
       "Child injured              2\n",
       " Confirmed Time          146\n",
       "Time of Day                0\n",
       "Unnamed: 19            22360\n",
       "Unnamed: 20            22360\n",
       "Unnamed: 21            22360\n",
       "Unnamed: 22            22436\n",
       "dtype: int64"
      ]
     },
     "execution_count": 3,
     "metadata": {},
     "output_type": "execute_result"
    }
   ],
   "source": [
    "df.isnull().sum()"
   ]
  },
  {
   "cell_type": "markdown",
   "metadata": {},
   "source": [
    "**Drop Columns:** \n",
    "- Unnamed: 19 \n",
    "- Unnamed: 20 \n",
    "- Unnamed: 21 \n",
    "- Unnamed: 22 \n",
    "\n",
    "These columns are mainly missing values and the information in the non-missing cells is duplicated in other columns."
   ]
  },
  {
   "cell_type": "code",
   "execution_count": 4,
   "metadata": {},
   "outputs": [],
   "source": [
    "df.drop(columns = ['Unnamed: 19', 'Unnamed: 20', 'Unnamed: 21', 'Unnamed: 22'], inplace=True)"
   ]
  },
  {
   "cell_type": "code",
   "execution_count": 5,
   "metadata": {},
   "outputs": [
    {
     "data": {
      "text/plain": [
       "5805"
      ]
     },
     "execution_count": 5,
     "metadata": {},
     "output_type": "execute_result"
    }
   ],
   "source": [
    "len(df['Area'].unique())"
   ]
  },
  {
   "cell_type": "code",
   "execution_count": 6,
   "metadata": {},
   "outputs": [],
   "source": [
    "#df = df.drop(columns=['Unnamed: 19', 'Unnamed: 20',\n",
    "#       'Unnamed: 21', 'Unnamed: 22'])"
   ]
  },
  {
   "cell_type": "code",
   "execution_count": 7,
   "metadata": {},
   "outputs": [],
   "source": [
    "# df['Child injured'] = df['Child injured'].fillna(df['Child injured'].mean())\n",
    "# df['Max Air Raids'] = df['Max Air Raids'].fillna(df['Max Air Raids'].mean())"
   ]
  },
  {
   "cell_type": "code",
   "execution_count": 8,
   "metadata": {},
   "outputs": [
    {
     "data": {
      "text/plain": [
       "0      20667\n",
       "2        224\n",
       "5        212\n",
       "1        199\n",
       "3        194\n",
       "       ...  \n",
       "77         1\n",
       "101        1\n",
       "85         1\n",
       "100        1\n",
       "95         1\n",
       "Name: Civilian Casualties, Length: 89, dtype: int64"
      ]
     },
     "execution_count": 8,
     "metadata": {},
     "output_type": "execute_result"
    }
   ],
   "source": [
    "df['Civilian Casualties'].value_counts()"
   ]
  },
  {
   "cell_type": "code",
   "execution_count": 9,
   "metadata": {
    "scrolled": true
   },
   "outputs": [
    {
     "data": {
      "text/plain": [
       "Unknown                     8496\n",
       "Military_Security_Target    7385\n",
       "Civilian                    2879\n",
       "Infrastructure              1447\n",
       "Economic_infrastructure     1080\n",
       "Economic_Infrastructure      298\n",
       "Political_Tribal             294\n",
       "Educational_facility         240\n",
       "Educational_Facility         150\n",
       "Cultural_heritage             73\n",
       "Medical_Facility              60\n",
       "Medical_facility              26\n",
       "Media                         24\n",
       "international_community       13\n",
       "Political_Tribal              11\n",
       "International_community        6\n",
       "cultural_heritage              2\n",
       "International_Community        1\n",
       "Name: Main category, dtype: int64"
      ]
     },
     "execution_count": 9,
     "metadata": {},
     "output_type": "execute_result"
    }
   ],
   "source": [
    "df['Main category'].value_counts()"
   ]
  },
  {
   "cell_type": "markdown",
   "metadata": {},
   "source": [
    "### Clean up columns"
   ]
  },
  {
   "cell_type": "markdown",
   "metadata": {},
   "source": [
    "#### Column names"
   ]
  },
  {
   "cell_type": "code",
   "execution_count": 10,
   "metadata": {},
   "outputs": [],
   "source": [
    "# Clean up column names: Remove spaces, make lowercase, replace space with underscore\n",
    "df.columns = df.columns.str.strip().str.lower().str.replace(' ', '_').str.replace('-','_')"
   ]
  },
  {
   "cell_type": "code",
   "execution_count": 11,
   "metadata": {},
   "outputs": [
    {
     "data": {
      "text/plain": [
       "Index(['incident_id', 'date', 'governorate', 'district', 'area', 'target',\n",
       "       'main_category', 'sub_category', 'min_air_raids', 'max_air_raids',\n",
       "       'civilian_casualties', 'fatalities', 'woman_fatalities',\n",
       "       'child_fatalities', 'injured', 'woman_injured', 'child_injured',\n",
       "       'confirmed_time', 'time_of_day'],\n",
       "      dtype='object')"
      ]
     },
     "execution_count": 11,
     "metadata": {},
     "output_type": "execute_result"
    }
   ],
   "source": [
    "df.columns"
   ]
  },
  {
   "cell_type": "markdown",
   "metadata": {},
   "source": [
    "#### Column values"
   ]
  },
  {
   "cell_type": "code",
   "execution_count": 12,
   "metadata": {},
   "outputs": [
    {
     "data": {
      "text/plain": [
       "DatetimeIndex(['2015-03-26', '2015-03-26', '2015-03-26', '2015-03-26',\n",
       "               '2015-03-26', '2015-03-26', '2015-03-26', '2015-03-26',\n",
       "               '2015-03-26', '2015-03-26',\n",
       "               ...\n",
       "               '2020-12-29', '2020-12-30', '2020-12-30', '2020-12-30',\n",
       "               '2020-12-31', '2020-12-31', '2020-12-31', '2020-12-31',\n",
       "               '2020-12-31', '2020-12-31'],\n",
       "              dtype='datetime64[ns]', name='date', length=22485, freq=None)"
      ]
     },
     "execution_count": 12,
     "metadata": {},
     "output_type": "execute_result"
    }
   ],
   "source": [
    "# date: make index and convert to datetime \n",
    "df.set_index('date', inplace=True)\n",
    "df.index = pd.to_datetime(df.index)\n",
    "df.index"
   ]
  },
  {
   "cell_type": "code",
   "execution_count": 13,
   "metadata": {},
   "outputs": [],
   "source": [
    "# incident id"
   ]
  },
  {
   "cell_type": "code",
   "execution_count": 14,
   "metadata": {},
   "outputs": [
    {
     "data": {
      "text/html": [
       "<div>\n",
       "<style scoped>\n",
       "    .dataframe tbody tr th:only-of-type {\n",
       "        vertical-align: middle;\n",
       "    }\n",
       "\n",
       "    .dataframe tbody tr th {\n",
       "        vertical-align: top;\n",
       "    }\n",
       "\n",
       "    .dataframe thead th {\n",
       "        text-align: right;\n",
       "    }\n",
       "</style>\n",
       "<table border=\"1\" class=\"dataframe\">\n",
       "  <thead>\n",
       "    <tr style=\"text-align: right;\">\n",
       "      <th></th>\n",
       "      <th>incident_id</th>\n",
       "      <th>governorate</th>\n",
       "      <th>district</th>\n",
       "      <th>area</th>\n",
       "      <th>target</th>\n",
       "      <th>main_category</th>\n",
       "      <th>sub_category</th>\n",
       "      <th>min_air_raids</th>\n",
       "      <th>max_air_raids</th>\n",
       "      <th>civilian_casualties</th>\n",
       "      <th>fatalities</th>\n",
       "      <th>woman_fatalities</th>\n",
       "      <th>child_fatalities</th>\n",
       "      <th>injured</th>\n",
       "      <th>woman_injured</th>\n",
       "      <th>child_injured</th>\n",
       "      <th>confirmed_time</th>\n",
       "      <th>time_of_day</th>\n",
       "    </tr>\n",
       "    <tr>\n",
       "      <th>date</th>\n",
       "      <th></th>\n",
       "      <th></th>\n",
       "      <th></th>\n",
       "      <th></th>\n",
       "      <th></th>\n",
       "      <th></th>\n",
       "      <th></th>\n",
       "      <th></th>\n",
       "      <th></th>\n",
       "      <th></th>\n",
       "      <th></th>\n",
       "      <th></th>\n",
       "      <th></th>\n",
       "      <th></th>\n",
       "      <th></th>\n",
       "      <th></th>\n",
       "      <th></th>\n",
       "      <th></th>\n",
       "    </tr>\n",
       "  </thead>\n",
       "  <tbody>\n",
       "  </tbody>\n",
       "</table>\n",
       "</div>"
      ],
      "text/plain": [
       "Empty DataFrame\n",
       "Columns: [incident_id, governorate, district, area, target, main_category, sub_category, min_air_raids, max_air_raids, civilian_casualties, fatalities, woman_fatalities, child_fatalities, injured, woman_injured, child_injured, confirmed_time, time_of_day]\n",
       "Index: []"
      ]
     },
     "execution_count": 14,
     "metadata": {},
     "output_type": "execute_result"
    }
   ],
   "source": [
    "df[df['governorate'] == 'sanaa']"
   ]
  },
  {
   "cell_type": "code",
   "execution_count": 15,
   "metadata": {},
   "outputs": [
    {
     "data": {
      "text/plain": [
       "Saada        5199\n",
       "Taiz         2661\n",
       "Sanaa        2568\n",
       "Hajja        2429\n",
       "Marib        2248\n",
       "Hudaydah     1811\n",
       "Capital      1418\n",
       "Jawf         1284\n",
       "Bayda         576\n",
       "Amran         451\n",
       "Lahj          395\n",
       "Shabwa        320\n",
       "Aden          293\n",
       "Ibb           266\n",
       "Dhalie        200\n",
       "Dhamar        183\n",
       "Abyan          85\n",
       "Mahwit         72\n",
       "Raymah         12\n",
       "Hadramawt       8\n",
       "Maharah         2\n",
       "Marib           2\n",
       "lahj            2\n",
       "Name: governorate, dtype: int64"
      ]
     },
     "execution_count": 15,
     "metadata": {},
     "output_type": "execute_result"
    }
   ],
   "source": [
    "# governorate\n",
    "df['governorate'].value_counts()"
   ]
  },
  {
   "cell_type": "code",
   "execution_count": 16,
   "metadata": {},
   "outputs": [],
   "source": [
    "# district\n",
    "district_list = []\n",
    "for value in df['district']:\n",
    "    value = str(value).lower().strip()\n",
    "    district_list.append(value)\n",
    "\n",
    "df['district'] = district_list"
   ]
  },
  {
   "cell_type": "code",
   "execution_count": 17,
   "metadata": {},
   "outputs": [],
   "source": [
    "# area\n",
    "df['area'] = df['area'].fillna('Unknown')"
   ]
  },
  {
   "cell_type": "code",
   "execution_count": 18,
   "metadata": {},
   "outputs": [
    {
     "data": {
      "text/plain": [
       "Unknown                                                 8364\n",
       "Pro-Houthi forces                                       2123\n",
       "Residential Area                                         590\n",
       "Pro-Houthi sites                                         403\n",
       "Pro-Houthi positions                                     396\n",
       "                                                        ... \n",
       "House (reportedly belonging to sheikh Ali Al-Jaradi)       1\n",
       "Al-Shatab bridge                                           1\n",
       "Zaid Al-Faraj house                                        1\n",
       "Dar Al-Nasr Military Camp                                  1\n",
       "Agricultural nursery                                       1\n",
       "Name: target, Length: 2884, dtype: int64"
      ]
     },
     "execution_count": 18,
     "metadata": {},
     "output_type": "execute_result"
    }
   ],
   "source": [
    "# target\n",
    "df['target'].value_counts()"
   ]
  },
  {
   "cell_type": "code",
   "execution_count": 19,
   "metadata": {},
   "outputs": [],
   "source": [
    "# main_category\n",
    "main_category_list = []\n",
    "for value in df['main_category']:\n",
    "    value = value.lower().strip()\n",
    "    main_category_list.append(value)\n",
    "df['main_category'] = main_category_list"
   ]
  },
  {
   "cell_type": "code",
   "execution_count": 20,
   "metadata": {},
   "outputs": [],
   "source": [
    "# sub-category\n",
    "sub_category_list = []\n",
    "for value in df['sub_category']:\n",
    "    value = value.lower().strip()\n",
    "    sub_category_list.append(value)\n",
    "df['sub_category'] = sub_category_list"
   ]
  },
  {
   "cell_type": "code",
   "execution_count": 21,
   "metadata": {},
   "outputs": [
    {
     "data": {
      "text/plain": [
       "0"
      ]
     },
     "execution_count": 21,
     "metadata": {},
     "output_type": "execute_result"
    }
   ],
   "source": [
    "# min_air_raids\n",
    "df['min_air_raids'].isnull().sum()"
   ]
  },
  {
   "cell_type": "code",
   "execution_count": 22,
   "metadata": {
    "pycharm": {
     "name": "#%%\n"
    }
   },
   "outputs": [],
   "source": [
    "# max_air_raids\n",
    "max_air_raids = []\n",
    "for value in df['max_air_raids']:\n",
    "    if value == '2,2':\n",
    "        val = 2\n",
    "    elif value != '-' and type(value) != float:\n",
    "        val = int(value.strip('+'))\n",
    "    elif type(value) == float:\n",
    "        val = value\n",
    "    else:\n",
    "        val = 0\n",
    "    max_air_raids.append(val)\n",
    "df['max_air_raids'] = max_air_raids\n",
    "df['max_air_raids'] = df['max_air_raids'].fillna(df['max_air_raids'].median())"
   ]
  },
  {
   "cell_type": "code",
   "execution_count": 23,
   "metadata": {},
   "outputs": [
    {
     "data": {
      "text/plain": [
       "0"
      ]
     },
     "execution_count": 23,
     "metadata": {},
     "output_type": "execute_result"
    }
   ],
   "source": [
    "# civilian_casualties\n",
    "df['civilian_casualties'].isnull().sum()"
   ]
  },
  {
   "cell_type": "code",
   "execution_count": 24,
   "metadata": {},
   "outputs": [
    {
     "data": {
      "text/plain": [
       "0"
      ]
     },
     "execution_count": 24,
     "metadata": {},
     "output_type": "execute_result"
    }
   ],
   "source": [
    "# fatalities\n",
    "df['fatalities'].isnull().sum()"
   ]
  },
  {
   "cell_type": "code",
   "execution_count": 25,
   "metadata": {},
   "outputs": [
    {
     "data": {
      "text/plain": [
       "0"
      ]
     },
     "execution_count": 25,
     "metadata": {},
     "output_type": "execute_result"
    }
   ],
   "source": [
    "# woman_fatalities\n",
    "df['woman_fatalities'].isnull().sum()"
   ]
  },
  {
   "cell_type": "code",
   "execution_count": 26,
   "metadata": {},
   "outputs": [
    {
     "data": {
      "text/plain": [
       "0"
      ]
     },
     "execution_count": 26,
     "metadata": {},
     "output_type": "execute_result"
    }
   ],
   "source": [
    "# child_fatalities\n",
    "df['child_fatalities'].isnull().sum()"
   ]
  },
  {
   "cell_type": "code",
   "execution_count": 27,
   "metadata": {},
   "outputs": [
    {
     "data": {
      "text/plain": [
       "0"
      ]
     },
     "execution_count": 27,
     "metadata": {},
     "output_type": "execute_result"
    }
   ],
   "source": [
    "# injured\n",
    "df['injured'].isnull().sum()"
   ]
  },
  {
   "cell_type": "code",
   "execution_count": 28,
   "metadata": {},
   "outputs": [
    {
     "data": {
      "text/plain": [
       "0"
      ]
     },
     "execution_count": 28,
     "metadata": {},
     "output_type": "execute_result"
    }
   ],
   "source": [
    "# woman_injured\n",
    "df['woman_injured'].isnull().sum()"
   ]
  },
  {
   "cell_type": "code",
   "execution_count": 29,
   "metadata": {},
   "outputs": [],
   "source": [
    "# child_injured\n",
    "df['child_injured'] = df['child_injured'].fillna(df['child_injured'].median())"
   ]
  },
  {
   "cell_type": "code",
   "execution_count": 30,
   "metadata": {},
   "outputs": [],
   "source": [
    "# confirmed_time\n",
    "df['confirmed_time'] = df['confirmed_time'].replace(\n",
    "    {'Unkn': 'Unknown', 'unkn': 'Unknown', '41': 'Unknown'}).fillna('18')"
   ]
  },
  {
   "cell_type": "code",
   "execution_count": 31,
   "metadata": {},
   "outputs": [
    {
     "data": {
      "text/html": [
       "<div>\n",
       "<style scoped>\n",
       "    .dataframe tbody tr th:only-of-type {\n",
       "        vertical-align: middle;\n",
       "    }\n",
       "\n",
       "    .dataframe tbody tr th {\n",
       "        vertical-align: top;\n",
       "    }\n",
       "\n",
       "    .dataframe thead th {\n",
       "        text-align: right;\n",
       "    }\n",
       "</style>\n",
       "<table border=\"1\" class=\"dataframe\">\n",
       "  <thead>\n",
       "    <tr style=\"text-align: right;\">\n",
       "      <th></th>\n",
       "      <th>incident_id</th>\n",
       "      <th>governorate</th>\n",
       "      <th>district</th>\n",
       "      <th>area</th>\n",
       "      <th>target</th>\n",
       "      <th>main_category</th>\n",
       "      <th>sub_category</th>\n",
       "      <th>min_air_raids</th>\n",
       "      <th>max_air_raids</th>\n",
       "      <th>civilian_casualties</th>\n",
       "      <th>fatalities</th>\n",
       "      <th>woman_fatalities</th>\n",
       "      <th>child_fatalities</th>\n",
       "      <th>injured</th>\n",
       "      <th>woman_injured</th>\n",
       "      <th>child_injured</th>\n",
       "      <th>confirmed_time</th>\n",
       "      <th>time_of_day</th>\n",
       "    </tr>\n",
       "    <tr>\n",
       "      <th>date</th>\n",
       "      <th></th>\n",
       "      <th></th>\n",
       "      <th></th>\n",
       "      <th></th>\n",
       "      <th></th>\n",
       "      <th></th>\n",
       "      <th></th>\n",
       "      <th></th>\n",
       "      <th></th>\n",
       "      <th></th>\n",
       "      <th></th>\n",
       "      <th></th>\n",
       "      <th></th>\n",
       "      <th></th>\n",
       "      <th></th>\n",
       "      <th></th>\n",
       "      <th></th>\n",
       "      <th></th>\n",
       "    </tr>\n",
       "  </thead>\n",
       "  <tbody>\n",
       "    <tr>\n",
       "      <th>2015-03-26</th>\n",
       "      <td>9</td>\n",
       "      <td>Sanaa</td>\n",
       "      <td>arhab</td>\n",
       "      <td>Al-Sama'a</td>\n",
       "      <td>Al-Sama'a Military Camp</td>\n",
       "      <td>military_security_target</td>\n",
       "      <td>military site</td>\n",
       "      <td>1</td>\n",
       "      <td>2.0</td>\n",
       "      <td>0</td>\n",
       "      <td>0</td>\n",
       "      <td>0</td>\n",
       "      <td>0</td>\n",
       "      <td>0</td>\n",
       "      <td>0</td>\n",
       "      <td>0.0</td>\n",
       "      <td>Unknown</td>\n",
       "      <td>Afternoon</td>\n",
       "    </tr>\n",
       "    <tr>\n",
       "      <th>2015-03-26</th>\n",
       "      <td>19</td>\n",
       "      <td>Hajja</td>\n",
       "      <td>washhah</td>\n",
       "      <td>-</td>\n",
       "      <td>Haqqah School</td>\n",
       "      <td>educational_facility</td>\n",
       "      <td>school</td>\n",
       "      <td>1</td>\n",
       "      <td>2.0</td>\n",
       "      <td>0</td>\n",
       "      <td>0</td>\n",
       "      <td>0</td>\n",
       "      <td>0</td>\n",
       "      <td>0</td>\n",
       "      <td>0</td>\n",
       "      <td>0.0</td>\n",
       "      <td>Unknown</td>\n",
       "      <td>Afternoon</td>\n",
       "    </tr>\n",
       "    <tr>\n",
       "      <th>2015-03-26</th>\n",
       "      <td>20</td>\n",
       "      <td>Hajja</td>\n",
       "      <td>washhah</td>\n",
       "      <td>Samir, Shammakh mountains</td>\n",
       "      <td>Unknown</td>\n",
       "      <td>unknown</td>\n",
       "      <td>unknown</td>\n",
       "      <td>1</td>\n",
       "      <td>2.0</td>\n",
       "      <td>0</td>\n",
       "      <td>0</td>\n",
       "      <td>0</td>\n",
       "      <td>0</td>\n",
       "      <td>0</td>\n",
       "      <td>0</td>\n",
       "      <td>0.0</td>\n",
       "      <td>Unknown</td>\n",
       "      <td>Afternoon</td>\n",
       "    </tr>\n",
       "    <tr>\n",
       "      <th>2015-03-26</th>\n",
       "      <td>23</td>\n",
       "      <td>Saada</td>\n",
       "      <td>haydan</td>\n",
       "      <td>Marran</td>\n",
       "      <td>Houses (reportedly belonging to the Houthis le...</td>\n",
       "      <td>political_tribal</td>\n",
       "      <td>figure</td>\n",
       "      <td>1</td>\n",
       "      <td>2.0</td>\n",
       "      <td>0</td>\n",
       "      <td>0</td>\n",
       "      <td>0</td>\n",
       "      <td>0</td>\n",
       "      <td>0</td>\n",
       "      <td>0</td>\n",
       "      <td>0.0</td>\n",
       "      <td>Unknown</td>\n",
       "      <td>Early-Morning</td>\n",
       "    </tr>\n",
       "    <tr>\n",
       "      <th>2015-03-26</th>\n",
       "      <td>24</td>\n",
       "      <td>Saada</td>\n",
       "      <td>haydan</td>\n",
       "      <td>Maa</td>\n",
       "      <td>Weapons Storage</td>\n",
       "      <td>military_security_target</td>\n",
       "      <td>weapon storage</td>\n",
       "      <td>1</td>\n",
       "      <td>2.0</td>\n",
       "      <td>0</td>\n",
       "      <td>0</td>\n",
       "      <td>0</td>\n",
       "      <td>0</td>\n",
       "      <td>0</td>\n",
       "      <td>0</td>\n",
       "      <td>0.0</td>\n",
       "      <td>Unknown</td>\n",
       "      <td>Early-Morning</td>\n",
       "    </tr>\n",
       "    <tr>\n",
       "      <th>...</th>\n",
       "      <td>...</td>\n",
       "      <td>...</td>\n",
       "      <td>...</td>\n",
       "      <td>...</td>\n",
       "      <td>...</td>\n",
       "      <td>...</td>\n",
       "      <td>...</td>\n",
       "      <td>...</td>\n",
       "      <td>...</td>\n",
       "      <td>...</td>\n",
       "      <td>...</td>\n",
       "      <td>...</td>\n",
       "      <td>...</td>\n",
       "      <td>...</td>\n",
       "      <td>...</td>\n",
       "      <td>...</td>\n",
       "      <td>...</td>\n",
       "      <td>...</td>\n",
       "    </tr>\n",
       "    <tr>\n",
       "      <th>2020-12-24</th>\n",
       "      <td>22450</td>\n",
       "      <td>Bayda</td>\n",
       "      <td>al-maljim</td>\n",
       "      <td>Unknown</td>\n",
       "      <td>Pro-Houthi reinforcements</td>\n",
       "      <td>military_security_target</td>\n",
       "      <td>moving target (weapons/fighters)</td>\n",
       "      <td>1</td>\n",
       "      <td>2.0</td>\n",
       "      <td>0</td>\n",
       "      <td>0</td>\n",
       "      <td>0</td>\n",
       "      <td>0</td>\n",
       "      <td>0</td>\n",
       "      <td>0</td>\n",
       "      <td>0.0</td>\n",
       "      <td>Unknown</td>\n",
       "      <td>Unknown</td>\n",
       "    </tr>\n",
       "    <tr>\n",
       "      <th>2020-12-24</th>\n",
       "      <td>22451</td>\n",
       "      <td>Hajja</td>\n",
       "      <td>hayran</td>\n",
       "      <td>Unknown</td>\n",
       "      <td>Pro-Houthi positions</td>\n",
       "      <td>military_security_target</td>\n",
       "      <td>forces</td>\n",
       "      <td>1</td>\n",
       "      <td>2.0</td>\n",
       "      <td>0</td>\n",
       "      <td>0</td>\n",
       "      <td>0</td>\n",
       "      <td>0</td>\n",
       "      <td>0</td>\n",
       "      <td>0</td>\n",
       "      <td>0.0</td>\n",
       "      <td>Unknown</td>\n",
       "      <td>Unknown</td>\n",
       "    </tr>\n",
       "    <tr>\n",
       "      <th>2020-12-25</th>\n",
       "      <td>22453</td>\n",
       "      <td>Marib</td>\n",
       "      <td>jabal murad</td>\n",
       "      <td>Unknown</td>\n",
       "      <td>Pro-Houthi positions</td>\n",
       "      <td>military_security_target</td>\n",
       "      <td>forces</td>\n",
       "      <td>1</td>\n",
       "      <td>3.0</td>\n",
       "      <td>0</td>\n",
       "      <td>0</td>\n",
       "      <td>0</td>\n",
       "      <td>0</td>\n",
       "      <td>0</td>\n",
       "      <td>0</td>\n",
       "      <td>0.0</td>\n",
       "      <td>Unknown</td>\n",
       "      <td>Unknown</td>\n",
       "    </tr>\n",
       "    <tr>\n",
       "      <th>2020-12-27</th>\n",
       "      <td>22458</td>\n",
       "      <td>Marib</td>\n",
       "      <td>mahalih</td>\n",
       "      <td>Unknown</td>\n",
       "      <td>Pro-Houthi positions</td>\n",
       "      <td>military_security_target</td>\n",
       "      <td>forces</td>\n",
       "      <td>1</td>\n",
       "      <td>1.0</td>\n",
       "      <td>0</td>\n",
       "      <td>0</td>\n",
       "      <td>0</td>\n",
       "      <td>0</td>\n",
       "      <td>0</td>\n",
       "      <td>0</td>\n",
       "      <td>0.0</td>\n",
       "      <td>Unknown</td>\n",
       "      <td>Unknown</td>\n",
       "    </tr>\n",
       "    <tr>\n",
       "      <th>2020-12-27</th>\n",
       "      <td>22459</td>\n",
       "      <td>Marib</td>\n",
       "      <td>jabal murad</td>\n",
       "      <td>Unknown</td>\n",
       "      <td>Pro-Houthi positions</td>\n",
       "      <td>military_security_target</td>\n",
       "      <td>forces</td>\n",
       "      <td>1</td>\n",
       "      <td>1.0</td>\n",
       "      <td>0</td>\n",
       "      <td>0</td>\n",
       "      <td>0</td>\n",
       "      <td>0</td>\n",
       "      <td>0</td>\n",
       "      <td>0</td>\n",
       "      <td>0.0</td>\n",
       "      <td>Unknown</td>\n",
       "      <td>Early-Morning</td>\n",
       "    </tr>\n",
       "  </tbody>\n",
       "</table>\n",
       "<p>9187 rows × 18 columns</p>\n",
       "</div>"
      ],
      "text/plain": [
       "            incident_id governorate     district                       area  \\\n",
       "date                                                                          \n",
       "2015-03-26            9       Sanaa        arhab                  Al-Sama'a   \n",
       "2015-03-26           19       Hajja      washhah                          -   \n",
       "2015-03-26           20       Hajja      washhah  Samir, Shammakh mountains   \n",
       "2015-03-26           23       Saada       haydan                     Marran   \n",
       "2015-03-26           24       Saada       haydan                        Maa   \n",
       "...                 ...         ...          ...                        ...   \n",
       "2020-12-24        22450       Bayda    al-maljim                    Unknown   \n",
       "2020-12-24        22451       Hajja       hayran                    Unknown   \n",
       "2020-12-25        22453       Marib  jabal murad                    Unknown   \n",
       "2020-12-27        22458       Marib      mahalih                    Unknown   \n",
       "2020-12-27        22459       Marib  jabal murad                    Unknown   \n",
       "\n",
       "                                                       target  \\\n",
       "date                                                            \n",
       "2015-03-26                            Al-Sama'a Military Camp   \n",
       "2015-03-26                                      Haqqah School   \n",
       "2015-03-26                                            Unknown   \n",
       "2015-03-26  Houses (reportedly belonging to the Houthis le...   \n",
       "2015-03-26                                    Weapons Storage   \n",
       "...                                                       ...   \n",
       "2020-12-24                          Pro-Houthi reinforcements   \n",
       "2020-12-24                               Pro-Houthi positions   \n",
       "2020-12-25                               Pro-Houthi positions   \n",
       "2020-12-27                               Pro-Houthi positions   \n",
       "2020-12-27                               Pro-Houthi positions   \n",
       "\n",
       "                       main_category                      sub_category  \\\n",
       "date                                                                     \n",
       "2015-03-26  military_security_target                     military site   \n",
       "2015-03-26      educational_facility                            school   \n",
       "2015-03-26                   unknown                           unknown   \n",
       "2015-03-26          political_tribal                            figure   \n",
       "2015-03-26  military_security_target                    weapon storage   \n",
       "...                              ...                               ...   \n",
       "2020-12-24  military_security_target  moving target (weapons/fighters)   \n",
       "2020-12-24  military_security_target                            forces   \n",
       "2020-12-25  military_security_target                            forces   \n",
       "2020-12-27  military_security_target                            forces   \n",
       "2020-12-27  military_security_target                            forces   \n",
       "\n",
       "            min_air_raids  max_air_raids  civilian_casualties  fatalities  \\\n",
       "date                                                                        \n",
       "2015-03-26              1            2.0                    0           0   \n",
       "2015-03-26              1            2.0                    0           0   \n",
       "2015-03-26              1            2.0                    0           0   \n",
       "2015-03-26              1            2.0                    0           0   \n",
       "2015-03-26              1            2.0                    0           0   \n",
       "...                   ...            ...                  ...         ...   \n",
       "2020-12-24              1            2.0                    0           0   \n",
       "2020-12-24              1            2.0                    0           0   \n",
       "2020-12-25              1            3.0                    0           0   \n",
       "2020-12-27              1            1.0                    0           0   \n",
       "2020-12-27              1            1.0                    0           0   \n",
       "\n",
       "            woman_fatalities  child_fatalities  injured  woman_injured  \\\n",
       "date                                                                     \n",
       "2015-03-26                 0                 0        0              0   \n",
       "2015-03-26                 0                 0        0              0   \n",
       "2015-03-26                 0                 0        0              0   \n",
       "2015-03-26                 0                 0        0              0   \n",
       "2015-03-26                 0                 0        0              0   \n",
       "...                      ...               ...      ...            ...   \n",
       "2020-12-24                 0                 0        0              0   \n",
       "2020-12-24                 0                 0        0              0   \n",
       "2020-12-25                 0                 0        0              0   \n",
       "2020-12-27                 0                 0        0              0   \n",
       "2020-12-27                 0                 0        0              0   \n",
       "\n",
       "            child_injured confirmed_time    time_of_day  \n",
       "date                                                     \n",
       "2015-03-26            0.0        Unknown      Afternoon  \n",
       "2015-03-26            0.0        Unknown      Afternoon  \n",
       "2015-03-26            0.0        Unknown      Afternoon  \n",
       "2015-03-26            0.0        Unknown  Early-Morning  \n",
       "2015-03-26            0.0        Unknown  Early-Morning  \n",
       "...                   ...            ...            ...  \n",
       "2020-12-24            0.0        Unknown        Unknown  \n",
       "2020-12-24            0.0        Unknown        Unknown  \n",
       "2020-12-25            0.0        Unknown        Unknown  \n",
       "2020-12-27            0.0        Unknown        Unknown  \n",
       "2020-12-27            0.0        Unknown  Early-Morning  \n",
       "\n",
       "[9187 rows x 18 columns]"
      ]
     },
     "execution_count": 31,
     "metadata": {},
     "output_type": "execute_result"
    }
   ],
   "source": [
    "df[df['confirmed_time'] == 'Unknown']"
   ]
  },
  {
   "cell_type": "code",
   "execution_count": 32,
   "metadata": {},
   "outputs": [],
   "source": [
    "#confirmed_time_list = []\n",
    "#for value in list(zip(df['confirmed_time'], df['time_of_day'])):\n",
    "#    if value[0] != 'Unknown' or type(value[0]) == object or type(value[0]) == str:\n",
    "#        val = value[0]\n",
    "#    elif math.isnan(value[0]) == True:\n",
    "#        val = 18\n",
    "#    elif value[0] == 'Unknown':\n",
    "#        if value[1].lower().strip() == 'early-morning':\n",
    "#            val = 3\n",
    "#        elif value[1].lower().strip() == 'morning':\n",
    "#            val = 7\n",
    "#        elif value[1].lower().strip() == 'midday':\n",
    "#            val = 11 \n",
    "#        elif value[1].lower().strip() == 'afternoon':\n",
    "#            val = 14\n",
    "#        elif value[1].lower().strip() == 'evening':\n",
    "#            val = 18\n",
    "#        elif value[1].lower().strip() == 'night':\n",
    "#            val = 22\n",
    "#    confirmed_time_list.append(val)\n",
    "#\n",
    "#df['confirmed_time'] = confirmed_time_list\n",
    "\n",
    "#Anyone wants to mess with this to fill 146/22500 values feel free haha"
   ]
  },
  {
   "cell_type": "code",
   "execution_count": 33,
   "metadata": {},
   "outputs": [],
   "source": [
    "# time_of_day \n",
    "df['time_of_day'] = df['time_of_day'].str.lower()\n",
    "df['time_of_day'] = df['time_of_day'].replace([' midday'], 'afternoon')\n",
    "df['time_of_day'] = df['time_of_day'].replace(['midday'], 'afternoon')\n",
    "df['time_of_day'] = df['time_of_day'].replace(['evening'], 'night')\n",
    "df['time_of_day'] = df['time_of_day'].replace(['early-morning'], 'morning')\n",
    "df['time_of_day'] = df['time_of_day'].replace(['early morning'], 'morning')"
   ]
  },
  {
   "cell_type": "code",
   "execution_count": 34,
   "metadata": {},
   "outputs": [
    {
     "data": {
      "text/html": [
       "<div>\n",
       "<style scoped>\n",
       "    .dataframe tbody tr th:only-of-type {\n",
       "        vertical-align: middle;\n",
       "    }\n",
       "\n",
       "    .dataframe tbody tr th {\n",
       "        vertical-align: top;\n",
       "    }\n",
       "\n",
       "    .dataframe thead th {\n",
       "        text-align: right;\n",
       "    }\n",
       "</style>\n",
       "<table border=\"1\" class=\"dataframe\">\n",
       "  <thead>\n",
       "    <tr style=\"text-align: right;\">\n",
       "      <th></th>\n",
       "      <th>incident_id</th>\n",
       "      <th>governorate</th>\n",
       "      <th>district</th>\n",
       "      <th>area</th>\n",
       "      <th>target</th>\n",
       "      <th>main_category</th>\n",
       "      <th>sub_category</th>\n",
       "      <th>min_air_raids</th>\n",
       "      <th>max_air_raids</th>\n",
       "      <th>civilian_casualties</th>\n",
       "      <th>fatalities</th>\n",
       "      <th>woman_fatalities</th>\n",
       "      <th>child_fatalities</th>\n",
       "      <th>injured</th>\n",
       "      <th>woman_injured</th>\n",
       "      <th>child_injured</th>\n",
       "      <th>confirmed_time</th>\n",
       "      <th>time_of_day</th>\n",
       "    </tr>\n",
       "    <tr>\n",
       "      <th>date</th>\n",
       "      <th></th>\n",
       "      <th></th>\n",
       "      <th></th>\n",
       "      <th></th>\n",
       "      <th></th>\n",
       "      <th></th>\n",
       "      <th></th>\n",
       "      <th></th>\n",
       "      <th></th>\n",
       "      <th></th>\n",
       "      <th></th>\n",
       "      <th></th>\n",
       "      <th></th>\n",
       "      <th></th>\n",
       "      <th></th>\n",
       "      <th></th>\n",
       "      <th></th>\n",
       "      <th></th>\n",
       "    </tr>\n",
       "  </thead>\n",
       "  <tbody>\n",
       "    <tr>\n",
       "      <th>2015-03-26</th>\n",
       "      <td>1</td>\n",
       "      <td>Capital</td>\n",
       "      <td>bani al-harith</td>\n",
       "      <td>Al-Rahabah</td>\n",
       "      <td>Al-Daylami Airbase</td>\n",
       "      <td>military_security_target</td>\n",
       "      <td>military site</td>\n",
       "      <td>1</td>\n",
       "      <td>2.0</td>\n",
       "      <td>0</td>\n",
       "      <td>0</td>\n",
       "      <td>0</td>\n",
       "      <td>0</td>\n",
       "      <td>0</td>\n",
       "      <td>0</td>\n",
       "      <td>0.0</td>\n",
       "      <td>2</td>\n",
       "      <td>morning</td>\n",
       "    </tr>\n",
       "    <tr>\n",
       "      <th>2015-03-26</th>\n",
       "      <td>2</td>\n",
       "      <td>Capital</td>\n",
       "      <td>bani al-harith</td>\n",
       "      <td>Airport</td>\n",
       "      <td>Sana'a International Airport</td>\n",
       "      <td>infrastructure</td>\n",
       "      <td>transport</td>\n",
       "      <td>1</td>\n",
       "      <td>2.0</td>\n",
       "      <td>0</td>\n",
       "      <td>0</td>\n",
       "      <td>0</td>\n",
       "      <td>0</td>\n",
       "      <td>0</td>\n",
       "      <td>0</td>\n",
       "      <td>0.0</td>\n",
       "      <td>2</td>\n",
       "      <td>morning</td>\n",
       "    </tr>\n",
       "    <tr>\n",
       "      <th>2015-03-26</th>\n",
       "      <td>3</td>\n",
       "      <td>Capital</td>\n",
       "      <td>bani al-harith</td>\n",
       "      <td>Al-Sonblah Neighbourhood</td>\n",
       "      <td>Residential Area</td>\n",
       "      <td>civilian</td>\n",
       "      <td>residential area</td>\n",
       "      <td>1</td>\n",
       "      <td>2.0</td>\n",
       "      <td>29</td>\n",
       "      <td>21</td>\n",
       "      <td>3</td>\n",
       "      <td>14</td>\n",
       "      <td>8</td>\n",
       "      <td>0</td>\n",
       "      <td>7.0</td>\n",
       "      <td>2</td>\n",
       "      <td>morning</td>\n",
       "    </tr>\n",
       "    <tr>\n",
       "      <th>2015-03-26</th>\n",
       "      <td>4</td>\n",
       "      <td>Capital</td>\n",
       "      <td>al-sab'ein</td>\n",
       "      <td>Al-Nahdain</td>\n",
       "      <td>Presidential Palace</td>\n",
       "      <td>military_security_target</td>\n",
       "      <td>military site</td>\n",
       "      <td>1</td>\n",
       "      <td>2.0</td>\n",
       "      <td>0</td>\n",
       "      <td>0</td>\n",
       "      <td>0</td>\n",
       "      <td>0</td>\n",
       "      <td>0</td>\n",
       "      <td>0</td>\n",
       "      <td>0.0</td>\n",
       "      <td>3</td>\n",
       "      <td>morning</td>\n",
       "    </tr>\n",
       "    <tr>\n",
       "      <th>2015-03-26</th>\n",
       "      <td>5</td>\n",
       "      <td>Capital</td>\n",
       "      <td>al-thawrah</td>\n",
       "      <td>Al-Nahdhah</td>\n",
       "      <td>Former 1st Armoured Division</td>\n",
       "      <td>military_security_target</td>\n",
       "      <td>military site</td>\n",
       "      <td>1</td>\n",
       "      <td>2.0</td>\n",
       "      <td>0</td>\n",
       "      <td>0</td>\n",
       "      <td>0</td>\n",
       "      <td>0</td>\n",
       "      <td>0</td>\n",
       "      <td>0</td>\n",
       "      <td>0.0</td>\n",
       "      <td>3</td>\n",
       "      <td>morning</td>\n",
       "    </tr>\n",
       "  </tbody>\n",
       "</table>\n",
       "</div>"
      ],
      "text/plain": [
       "            incident_id governorate        district                      area  \\\n",
       "date                                                                            \n",
       "2015-03-26            1     Capital  bani al-harith                Al-Rahabah   \n",
       "2015-03-26            2     Capital  bani al-harith                   Airport   \n",
       "2015-03-26            3     Capital  bani al-harith  Al-Sonblah Neighbourhood   \n",
       "2015-03-26            4     Capital      al-sab'ein                Al-Nahdain   \n",
       "2015-03-26            5     Capital      al-thawrah                Al-Nahdhah   \n",
       "\n",
       "                                  target             main_category  \\\n",
       "date                                                                 \n",
       "2015-03-26            Al-Daylami Airbase  military_security_target   \n",
       "2015-03-26  Sana'a International Airport            infrastructure   \n",
       "2015-03-26              Residential Area                  civilian   \n",
       "2015-03-26           Presidential Palace  military_security_target   \n",
       "2015-03-26  Former 1st Armoured Division  military_security_target   \n",
       "\n",
       "                sub_category  min_air_raids  max_air_raids  \\\n",
       "date                                                         \n",
       "2015-03-26     military site              1            2.0   \n",
       "2015-03-26         transport              1            2.0   \n",
       "2015-03-26  residential area              1            2.0   \n",
       "2015-03-26     military site              1            2.0   \n",
       "2015-03-26     military site              1            2.0   \n",
       "\n",
       "            civilian_casualties  fatalities  woman_fatalities  \\\n",
       "date                                                            \n",
       "2015-03-26                    0           0                 0   \n",
       "2015-03-26                    0           0                 0   \n",
       "2015-03-26                   29          21                 3   \n",
       "2015-03-26                    0           0                 0   \n",
       "2015-03-26                    0           0                 0   \n",
       "\n",
       "            child_fatalities  injured  woman_injured  child_injured  \\\n",
       "date                                                                  \n",
       "2015-03-26                 0        0              0            0.0   \n",
       "2015-03-26                 0        0              0            0.0   \n",
       "2015-03-26                14        8              0            7.0   \n",
       "2015-03-26                 0        0              0            0.0   \n",
       "2015-03-26                 0        0              0            0.0   \n",
       "\n",
       "           confirmed_time time_of_day  \n",
       "date                                   \n",
       "2015-03-26              2     morning  \n",
       "2015-03-26              2     morning  \n",
       "2015-03-26              2     morning  \n",
       "2015-03-26              3     morning  \n",
       "2015-03-26              3     morning  "
      ]
     },
     "execution_count": 34,
     "metadata": {},
     "output_type": "execute_result"
    }
   ],
   "source": [
    "df.head()"
   ]
  },
  {
   "cell_type": "code",
   "execution_count": 35,
   "metadata": {},
   "outputs": [
    {
     "data": {
      "text/plain": [
       "incident_id              int64\n",
       "governorate             object\n",
       "district                object\n",
       "area                    object\n",
       "target                  object\n",
       "main_category           object\n",
       "sub_category            object\n",
       "min_air_raids            int64\n",
       "max_air_raids          float64\n",
       "civilian_casualties      int64\n",
       "fatalities               int64\n",
       "woman_fatalities         int64\n",
       "child_fatalities         int64\n",
       "injured                  int64\n",
       "woman_injured            int64\n",
       "child_injured          float64\n",
       "confirmed_time          object\n",
       "time_of_day             object\n",
       "dtype: object"
      ]
     },
     "execution_count": 35,
     "metadata": {},
     "output_type": "execute_result"
    }
   ],
   "source": [
    "df.dtypes"
   ]
  },
  {
   "cell_type": "code",
   "execution_count": 37,
   "metadata": {},
   "outputs": [],
   "source": [
    "df.to_csv('clean_df.csv')"
   ]
  },
  {
   "cell_type": "code",
   "execution_count": null,
   "metadata": {},
   "outputs": [],
   "source": []
  }
 ],
 "metadata": {
  "kernelspec": {
   "display_name": "Python 3",
   "language": "python",
   "name": "python3"
  },
  "language_info": {
   "codemirror_mode": {
    "name": "ipython",
    "version": 3
   },
   "file_extension": ".py",
   "mimetype": "text/x-python",
   "name": "python",
   "nbconvert_exporter": "python",
   "pygments_lexer": "ipython3",
   "version": "3.8.5"
  },
  "toc": {
   "base_numbering": 1,
   "nav_menu": {},
   "number_sections": true,
   "sideBar": true,
   "skip_h1_title": false,
   "title_cell": "Table of Contents",
   "title_sidebar": "Contents",
   "toc_cell": false,
   "toc_position": {},
   "toc_section_display": true,
   "toc_window_display": false
  }
 },
 "nbformat": 4,
 "nbformat_minor": 4
}
