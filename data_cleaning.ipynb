{
 "cells": [
  {
   "cell_type": "markdown",
   "metadata": {},
   "source": [
    "## Project 5 - Data Cleaning"
   ]
  },
  {
   "cell_type": "markdown",
   "metadata": {},
   "source": [
    "### Import libraries"
   ]
  },
  {
   "cell_type": "code",
   "execution_count": 1,
   "metadata": {},
   "outputs": [],
   "source": [
    "import pandas as pd\n",
    "pd.set_option('display.max_rows', 25)"
   ]
  },
  {
   "cell_type": "markdown",
   "metadata": {},
   "source": [
    "### Load data"
   ]
  },
  {
   "cell_type": "code",
   "execution_count": 2,
   "metadata": {},
   "outputs": [],
   "source": [
    "df = pd.read_csv('yemen.csv', encoding='cp1252')"
   ]
  },
  {
   "cell_type": "markdown",
   "metadata": {},
   "source": [
    "### Checkout null values"
   ]
  },
  {
   "cell_type": "code",
   "execution_count": 3,
   "metadata": {},
   "outputs": [
    {
     "data": {
      "text/plain": [
       "Incident ID                0\n",
       "Date                       0\n",
       "Governorate                0\n",
       "District                 238\n",
       "Area                    3299\n",
       "Target                     0\n",
       "Main category              0\n",
       "Sub-category               0\n",
       "Min Air Raids              0\n",
       "Max Air Raids              2\n",
       "Civilian Casualties        0\n",
       "Fatalities                 0\n",
       "Woman fatalities           0\n",
       "Child fatalities           0\n",
       "Injured                    0\n",
       "Woman injured              0\n",
       "Child injured              2\n",
       " Confirmed Time          146\n",
       "Time of Day                0\n",
       "Unnamed: 19            22360\n",
       "Unnamed: 20            22360\n",
       "Unnamed: 21            22360\n",
       "Unnamed: 22            22436\n",
       "dtype: int64"
      ]
     },
     "execution_count": 3,
     "metadata": {},
     "output_type": "execute_result"
    }
   ],
   "source": [
    "df.isnull().sum()"
   ]
  },
  {
   "cell_type": "markdown",
   "metadata": {},
   "source": [
    "**Drop Columns:** \n",
    "- Unnamed: 19 \n",
    "- Unnamed: 20 \n",
    "- Unnamed: 21 \n",
    "- Unnamed: 22 \n",
    "\n",
    "These columns are mainly missing values and the information in the non-missing cells is duplicated in other columns."
   ]
  },
  {
   "cell_type": "code",
   "execution_count": 4,
   "metadata": {},
   "outputs": [],
   "source": [
    "df.drop(columns = ['Unnamed: 19', 'Unnamed: 20', 'Unnamed: 21', 'Unnamed: 22'], inplace=True)"
   ]
  },
  {
   "cell_type": "code",
   "execution_count": 5,
   "metadata": {},
   "outputs": [
    {
     "data": {
      "text/plain": [
       "5805"
      ]
     },
     "execution_count": 5,
     "metadata": {},
     "output_type": "execute_result"
    }
   ],
   "source": [
    "len(df['Area'].unique())"
   ]
  },
  {
   "cell_type": "code",
   "execution_count": 6,
   "metadata": {},
   "outputs": [],
   "source": [
    "#df = df.drop(columns=['Unnamed: 19', 'Unnamed: 20',\n",
    "#       'Unnamed: 21', 'Unnamed: 22'])"
   ]
  },
  {
   "cell_type": "code",
   "execution_count": 7,
   "metadata": {},
   "outputs": [],
   "source": [
    "# df['Child injured'] = df['Child injured'].fillna(df['Child injured'].mean())\n",
    "# df['Max Air Raids'] = df['Max Air Raids'].fillna(df['Max Air Raids'].mean())"
   ]
  },
  {
   "cell_type": "code",
   "execution_count": 8,
   "metadata": {},
   "outputs": [
    {
     "data": {
      "text/plain": [
       "0      20667\n",
       "2        224\n",
       "5        212\n",
       "1        199\n",
       "3        194\n",
       "       ...  \n",
       "77         1\n",
       "101        1\n",
       "85         1\n",
       "100        1\n",
       "95         1\n",
       "Name: Civilian Casualties, Length: 89, dtype: int64"
      ]
     },
     "execution_count": 8,
     "metadata": {},
     "output_type": "execute_result"
    }
   ],
   "source": [
    "df['Civilian Casualties'].value_counts()"
   ]
  },
  {
   "cell_type": "code",
   "execution_count": 9,
   "metadata": {
    "scrolled": true
   },
   "outputs": [
    {
     "data": {
      "text/plain": [
       "Unknown                     8496\n",
       "Military_Security_Target    7385\n",
       "Civilian                    2879\n",
       "Infrastructure              1447\n",
       "Economic_infrastructure     1080\n",
       "Economic_Infrastructure      298\n",
       "Political_Tribal             294\n",
       "Educational_facility         240\n",
       "Educational_Facility         150\n",
       "Cultural_heritage             73\n",
       "Medical_Facility              60\n",
       "Medical_facility              26\n",
       "Media                         24\n",
       "international_community       13\n",
       "Political_Tribal              11\n",
       "International_community        6\n",
       "cultural_heritage              2\n",
       "International_Community        1\n",
       "Name: Main category, dtype: int64"
      ]
     },
     "execution_count": 9,
     "metadata": {},
     "output_type": "execute_result"
    }
   ],
   "source": [
    "df['Main category'].value_counts()"
   ]
  },
  {
   "cell_type": "markdown",
   "metadata": {},
   "source": [
    "### Clean up columns"
   ]
  },
  {
   "cell_type": "markdown",
   "metadata": {},
   "source": [
    "#### Column names"
   ]
  },
  {
   "cell_type": "code",
   "execution_count": 10,
   "metadata": {},
   "outputs": [],
   "source": [
    "# Clean up column names: Remove spaces, make lowercase, replace space with underscore\n",
    "df.columns = df.columns.str.strip().str.lower().str.replace(' ', '_').str.replace('-','_')"
   ]
  },
  {
   "cell_type": "code",
   "execution_count": 11,
   "metadata": {},
   "outputs": [
    {
     "data": {
      "text/plain": [
       "Index(['incident_id', 'date', 'governorate', 'district', 'area', 'target',\n",
       "       'main_category', 'sub_category', 'min_air_raids', 'max_air_raids',\n",
       "       'civilian_casualties', 'fatalities', 'woman_fatalities',\n",
       "       'child_fatalities', 'injured', 'woman_injured', 'child_injured',\n",
       "       'confirmed_time', 'time_of_day'],\n",
       "      dtype='object')"
      ]
     },
     "execution_count": 11,
     "metadata": {},
     "output_type": "execute_result"
    }
   ],
   "source": [
    "df.columns"
   ]
  },
  {
   "cell_type": "markdown",
   "metadata": {},
   "source": [
    "#### Column values"
   ]
  },
  {
   "cell_type": "code",
   "execution_count": 12,
   "metadata": {},
   "outputs": [
    {
     "data": {
      "text/plain": [
       "DatetimeIndex(['2015-03-26', '2015-03-26', '2015-03-26', '2015-03-26',\n",
       "               '2015-03-26', '2015-03-26', '2015-03-26', '2015-03-26',\n",
       "               '2015-03-26', '2015-03-26',\n",
       "               ...\n",
       "               '2020-12-29', '2020-12-30', '2020-12-30', '2020-12-30',\n",
       "               '2020-12-31', '2020-12-31', '2020-12-31', '2020-12-31',\n",
       "               '2020-12-31', '2020-12-31'],\n",
       "              dtype='datetime64[ns]', name='date', length=22485, freq=None)"
      ]
     },
     "execution_count": 12,
     "metadata": {},
     "output_type": "execute_result"
    }
   ],
   "source": [
    "# date: make index and convert to datetime \n",
    "df.set_index('date', inplace=True)\n",
    "df.index = pd.to_datetime(df.index)\n",
    "df.index"
   ]
  },
  {
   "cell_type": "code",
   "execution_count": 13,
   "metadata": {},
   "outputs": [],
   "source": [
    "# incident id"
   ]
  },
  {
   "cell_type": "code",
   "execution_count": 14,
   "metadata": {},
   "outputs": [
    {
     "data": {
      "text/plain": [
       "Saada        5199\n",
       "Taiz         2661\n",
       "Sanaa        2568\n",
       "Hajja        2429\n",
       "Marib        2248\n",
       "Hudaydah     1811\n",
       "Capital      1418\n",
       "Jawf         1284\n",
       "Bayda         576\n",
       "Amran         451\n",
       "Lahj          395\n",
       "Shabwa        320\n",
       "Aden          293\n",
       "Ibb           266\n",
       "Dhalie        200\n",
       "Dhamar        183\n",
       "Abyan          85\n",
       "Mahwit         72\n",
       "Raymah         12\n",
       "Hadramawt       8\n",
       "lahj            2\n",
       "Marib           2\n",
       "Maharah         2\n",
       "Name: governorate, dtype: int64"
      ]
     },
     "execution_count": 14,
     "metadata": {},
     "output_type": "execute_result"
    }
   ],
   "source": [
    "# governorate\n",
    "df['governorate'].value_counts()"
   ]
  },
  {
   "cell_type": "code",
   "execution_count": 15,
   "metadata": {},
   "outputs": [],
   "source": [
    "# district\n",
    "district_list = []\n",
    "for value in df['district']:\n",
    "    value = str(value).lower().strip()\n",
    "    district_list.append(value)\n",
    "\n",
    "df['district'] = district_list"
   ]
  },
  {
   "cell_type": "code",
   "execution_count": 16,
   "metadata": {},
   "outputs": [
    {
     "data": {
      "text/plain": [
       "-                4360\n",
       "The City          250\n",
       "Al-Nahdain        247\n",
       "Al-Rahabah        177\n",
       "Al-Omary          145\n",
       "                 ... \n",
       "Al Shuqayra’a       1\n",
       "Al-Marhah           1\n",
       "Al Abous            1\n",
       "Bani Ali            1\n",
       "Bani Shaddar        1\n",
       "Name: area, Length: 5804, dtype: int64"
      ]
     },
     "execution_count": 16,
     "metadata": {},
     "output_type": "execute_result"
    }
   ],
   "source": [
    "# area\n",
    "df['area'].value_counts()"
   ]
  },
  {
   "cell_type": "code",
   "execution_count": 17,
   "metadata": {},
   "outputs": [
    {
     "data": {
      "text/plain": [
       "Unknown                                      8364\n",
       "Pro-Houthi forces                            2123\n",
       "Residential Area                              590\n",
       "Pro-Houthi sites                              403\n",
       "Pro-Houthi positions                          396\n",
       "                                             ... \n",
       "Pro-Houthi forces’ military training camp       1\n",
       "Reasidential Areas                              1\n",
       "Wadi mor bridge                                 1\n",
       "Al-Janad Military Camp                          1\n",
       "Storaeg unit                                    1\n",
       "Name: target, Length: 2884, dtype: int64"
      ]
     },
     "execution_count": 17,
     "metadata": {},
     "output_type": "execute_result"
    }
   ],
   "source": [
    "# target\n",
    "df['target'].value_counts()"
   ]
  },
  {
   "cell_type": "code",
   "execution_count": 18,
   "metadata": {},
   "outputs": [],
   "source": [
    "# main_category\n",
    "main_category_list = []\n",
    "for value in df['main_category']:\n",
    "    value = value.lower().strip()\n",
    "    main_category_list.append(value)\n",
    "df['main_category'] = main_category_list"
   ]
  },
  {
   "cell_type": "code",
   "execution_count": 19,
   "metadata": {},
   "outputs": [],
   "source": [
    "# sub-category\n",
    "sub_category_list = []\n",
    "for value in df['sub_category']:\n",
    "    value = value.lower().strip()\n",
    "    sub_category_list.append(value)\n",
    "df['sub_category'] = sub_category_list"
   ]
  },
  {
   "cell_type": "code",
   "execution_count": 20,
   "metadata": {},
   "outputs": [
    {
     "data": {
      "text/plain": [
       "0"
      ]
     },
     "execution_count": 20,
     "metadata": {},
     "output_type": "execute_result"
    }
   ],
   "source": [
    "# min_air_raids\n",
    "df['min_air_raids'].isnull().sum()"
   ]
  },
  {
   "cell_type": "code",
   "execution_count": 21,
   "metadata": {
    "pycharm": {
     "name": "#%%\n"
    }
   },
   "outputs": [],
   "source": [
    "# max_air_raids\n",
    "max_air_raids = []\n",
    "for value in df['max_air_raids']:\n",
    "    if value == '2,2':\n",
    "        val = 2\n",
    "    elif value != '-' and type(value) != float:\n",
    "        val = int(value.strip('+'))\n",
    "    elif type(value) == float:\n",
    "        val = value\n",
    "    else:\n",
    "        val = 0\n",
    "    max_air_raids.append(val)\n",
    "df['max_air_raids'] = max_air_raids"
   ]
  },
  {
   "cell_type": "code",
   "execution_count": 22,
   "metadata": {},
   "outputs": [
    {
     "data": {
      "text/plain": [
       "0"
      ]
     },
     "execution_count": 22,
     "metadata": {},
     "output_type": "execute_result"
    }
   ],
   "source": [
    "# civilian_casualties\n",
    "df['civilian_casualties'].isnull().sum()"
   ]
  },
  {
   "cell_type": "code",
   "execution_count": 23,
   "metadata": {},
   "outputs": [
    {
     "data": {
      "text/plain": [
       "0"
      ]
     },
     "execution_count": 23,
     "metadata": {},
     "output_type": "execute_result"
    }
   ],
   "source": [
    "# fatalities\n",
    "df['fatalities'].isnull().sum()"
   ]
  },
  {
   "cell_type": "code",
   "execution_count": 24,
   "metadata": {},
   "outputs": [
    {
     "data": {
      "text/plain": [
       "0"
      ]
     },
     "execution_count": 24,
     "metadata": {},
     "output_type": "execute_result"
    }
   ],
   "source": [
    "# woman_fatalities\n",
    "df['woman_fatalities'].isnull().sum()"
   ]
  },
  {
   "cell_type": "code",
   "execution_count": 25,
   "metadata": {},
   "outputs": [
    {
     "data": {
      "text/plain": [
       "0"
      ]
     },
     "execution_count": 25,
     "metadata": {},
     "output_type": "execute_result"
    }
   ],
   "source": [
    "# child_fatalities\n",
    "df['child_fatalities'].isnull().sum()"
   ]
  },
  {
   "cell_type": "code",
   "execution_count": 26,
   "metadata": {},
   "outputs": [
    {
     "data": {
      "text/plain": [
       "0"
      ]
     },
     "execution_count": 26,
     "metadata": {},
     "output_type": "execute_result"
    }
   ],
   "source": [
    "# injured\n",
    "df['injured'].isnull().sum()"
   ]
  },
  {
   "cell_type": "code",
   "execution_count": 27,
   "metadata": {},
   "outputs": [
    {
     "data": {
      "text/plain": [
       "0"
      ]
     },
     "execution_count": 27,
     "metadata": {},
     "output_type": "execute_result"
    }
   ],
   "source": [
    "# woman_injured\n",
    "df['woman_injured'].isnull().sum()"
   ]
  },
  {
   "cell_type": "code",
   "execution_count": 28,
   "metadata": {},
   "outputs": [],
   "source": [
    "# child_injured\n",
    "df['child_injured'] = df['child_injured'].fillna(df['child_injured'].median())"
   ]
  },
  {
   "cell_type": "code",
   "execution_count": 29,
   "metadata": {},
   "outputs": [
    {
     "data": {
      "text/plain": [
       "Unknown    9187\n",
       "18          959\n",
       "17          952\n",
       "16          873\n",
       "19          831\n",
       "21          819\n",
       "20          807\n",
       "22          772\n",
       "24          748\n",
       "23          671\n",
       "11          595\n",
       "1           589\n",
       "15          581\n",
       "10          550\n",
       "12          504\n",
       "13          461\n",
       "9           452\n",
       "14          435\n",
       "2           385\n",
       "8           242\n",
       "3           241\n",
       "4           222\n",
       "5           164\n",
       "6           151\n",
       "7           148\n",
       "Name: confirmed_time, dtype: int64"
      ]
     },
     "execution_count": 29,
     "metadata": {},
     "output_type": "execute_result"
    }
   ],
   "source": [
    "# confirmed_time\n",
    "df['confirmed_time'] = df['confirmed_time'].replace(\n",
    "    {'Unkn': 'Unknown', 'unkn': 'Unknown', '41': 'Unknown'})\n",
    "df['confirmed_time'].value_counts()"
   ]
  },
  {
   "cell_type": "code",
   "execution_count": 30,
   "metadata": {},
   "outputs": [],
   "source": [
    "# time_of_day \n",
    "df['time_of_day'] = df['time_of_day'].str.lower()\n",
    "df['time_of_day'] = df['time_of_day'].replace([' midday'], 'afternoon')\n",
    "df['time_of_day'] = df['time_of_day'].replace(['midday'], 'afternoon')\n",
    "df['time_of_day'] = df['time_of_day'].replace(['evening'], 'night')\n",
    "df['time_of_day'] = df['time_of_day'].replace(['early-morning'], 'morning')\n",
    "df['time_of_day'] = df['time_of_day'].replace(['early morning'], 'morning')"
   ]
  },
  {
   "cell_type": "code",
   "execution_count": 31,
   "metadata": {
    "pycharm": {
     "name": "#%%\n"
    }
   },
   "outputs": [
    {
     "data": {
      "text/plain": [
       "Unknown                                      8364\n",
       "Pro-Houthi forces                            2123\n",
       "Residential Area                              590\n",
       "Pro-Houthi sites                              403\n",
       "Pro-Houthi positions                          396\n",
       "                                             ... \n",
       "Pro-Houthi forces’ military training camp       1\n",
       "Reasidential Areas                              1\n",
       "Wadi mor bridge                                 1\n",
       "Al-Janad Military Camp                          1\n",
       "Storaeg unit                                    1\n",
       "Name: target, Length: 2884, dtype: int64"
      ]
     },
     "execution_count": 31,
     "metadata": {},
     "output_type": "execute_result"
    }
   ],
   "source": [
    "df['target'].value_counts()"
   ]
  },
  {
   "cell_type": "code",
   "execution_count": 32,
   "metadata": {},
   "outputs": [
    {
     "data": {
      "text/html": [
       "<div>\n",
       "<style scoped>\n",
       "    .dataframe tbody tr th:only-of-type {\n",
       "        vertical-align: middle;\n",
       "    }\n",
       "\n",
       "    .dataframe tbody tr th {\n",
       "        vertical-align: top;\n",
       "    }\n",
       "\n",
       "    .dataframe thead th {\n",
       "        text-align: right;\n",
       "    }\n",
       "</style>\n",
       "<table border=\"1\" class=\"dataframe\">\n",
       "  <thead>\n",
       "    <tr style=\"text-align: right;\">\n",
       "      <th></th>\n",
       "      <th>incident_id</th>\n",
       "      <th>governorate</th>\n",
       "      <th>district</th>\n",
       "      <th>area</th>\n",
       "      <th>target</th>\n",
       "      <th>main_category</th>\n",
       "      <th>sub_category</th>\n",
       "      <th>min_air_raids</th>\n",
       "      <th>max_air_raids</th>\n",
       "      <th>civilian_casualties</th>\n",
       "      <th>fatalities</th>\n",
       "      <th>woman_fatalities</th>\n",
       "      <th>child_fatalities</th>\n",
       "      <th>injured</th>\n",
       "      <th>woman_injured</th>\n",
       "      <th>child_injured</th>\n",
       "      <th>confirmed_time</th>\n",
       "      <th>time_of_day</th>\n",
       "    </tr>\n",
       "    <tr>\n",
       "      <th>date</th>\n",
       "      <th></th>\n",
       "      <th></th>\n",
       "      <th></th>\n",
       "      <th></th>\n",
       "      <th></th>\n",
       "      <th></th>\n",
       "      <th></th>\n",
       "      <th></th>\n",
       "      <th></th>\n",
       "      <th></th>\n",
       "      <th></th>\n",
       "      <th></th>\n",
       "      <th></th>\n",
       "      <th></th>\n",
       "      <th></th>\n",
       "      <th></th>\n",
       "      <th></th>\n",
       "      <th></th>\n",
       "    </tr>\n",
       "  </thead>\n",
       "  <tbody>\n",
       "    <tr>\n",
       "      <th>2015-03-26</th>\n",
       "      <td>1</td>\n",
       "      <td>Capital</td>\n",
       "      <td>bani al-harith</td>\n",
       "      <td>Al-Rahabah</td>\n",
       "      <td>Al-Daylami Airbase</td>\n",
       "      <td>military_security_target</td>\n",
       "      <td>military site</td>\n",
       "      <td>1</td>\n",
       "      <td>2.0</td>\n",
       "      <td>0</td>\n",
       "      <td>0</td>\n",
       "      <td>0</td>\n",
       "      <td>0</td>\n",
       "      <td>0</td>\n",
       "      <td>0</td>\n",
       "      <td>0.0</td>\n",
       "      <td>2</td>\n",
       "      <td>morning</td>\n",
       "    </tr>\n",
       "    <tr>\n",
       "      <th>2015-03-26</th>\n",
       "      <td>2</td>\n",
       "      <td>Capital</td>\n",
       "      <td>bani al-harith</td>\n",
       "      <td>Airport</td>\n",
       "      <td>Sana'a International Airport</td>\n",
       "      <td>infrastructure</td>\n",
       "      <td>transport</td>\n",
       "      <td>1</td>\n",
       "      <td>2.0</td>\n",
       "      <td>0</td>\n",
       "      <td>0</td>\n",
       "      <td>0</td>\n",
       "      <td>0</td>\n",
       "      <td>0</td>\n",
       "      <td>0</td>\n",
       "      <td>0.0</td>\n",
       "      <td>2</td>\n",
       "      <td>morning</td>\n",
       "    </tr>\n",
       "    <tr>\n",
       "      <th>2015-03-26</th>\n",
       "      <td>3</td>\n",
       "      <td>Capital</td>\n",
       "      <td>bani al-harith</td>\n",
       "      <td>Al-Sonblah Neighbourhood</td>\n",
       "      <td>Residential Area</td>\n",
       "      <td>civilian</td>\n",
       "      <td>residential area</td>\n",
       "      <td>1</td>\n",
       "      <td>2.0</td>\n",
       "      <td>29</td>\n",
       "      <td>21</td>\n",
       "      <td>3</td>\n",
       "      <td>14</td>\n",
       "      <td>8</td>\n",
       "      <td>0</td>\n",
       "      <td>7.0</td>\n",
       "      <td>2</td>\n",
       "      <td>morning</td>\n",
       "    </tr>\n",
       "    <tr>\n",
       "      <th>2015-03-26</th>\n",
       "      <td>4</td>\n",
       "      <td>Capital</td>\n",
       "      <td>al-sab'ein</td>\n",
       "      <td>Al-Nahdain</td>\n",
       "      <td>Presidential Palace</td>\n",
       "      <td>military_security_target</td>\n",
       "      <td>military site</td>\n",
       "      <td>1</td>\n",
       "      <td>2.0</td>\n",
       "      <td>0</td>\n",
       "      <td>0</td>\n",
       "      <td>0</td>\n",
       "      <td>0</td>\n",
       "      <td>0</td>\n",
       "      <td>0</td>\n",
       "      <td>0.0</td>\n",
       "      <td>3</td>\n",
       "      <td>morning</td>\n",
       "    </tr>\n",
       "    <tr>\n",
       "      <th>2015-03-26</th>\n",
       "      <td>5</td>\n",
       "      <td>Capital</td>\n",
       "      <td>al-thawrah</td>\n",
       "      <td>Al-Nahdhah</td>\n",
       "      <td>Former 1st Armoured Division</td>\n",
       "      <td>military_security_target</td>\n",
       "      <td>military site</td>\n",
       "      <td>1</td>\n",
       "      <td>2.0</td>\n",
       "      <td>0</td>\n",
       "      <td>0</td>\n",
       "      <td>0</td>\n",
       "      <td>0</td>\n",
       "      <td>0</td>\n",
       "      <td>0</td>\n",
       "      <td>0.0</td>\n",
       "      <td>3</td>\n",
       "      <td>morning</td>\n",
       "    </tr>\n",
       "    <tr>\n",
       "      <th>...</th>\n",
       "      <td>...</td>\n",
       "      <td>...</td>\n",
       "      <td>...</td>\n",
       "      <td>...</td>\n",
       "      <td>...</td>\n",
       "      <td>...</td>\n",
       "      <td>...</td>\n",
       "      <td>...</td>\n",
       "      <td>...</td>\n",
       "      <td>...</td>\n",
       "      <td>...</td>\n",
       "      <td>...</td>\n",
       "      <td>...</td>\n",
       "      <td>...</td>\n",
       "      <td>...</td>\n",
       "      <td>...</td>\n",
       "      <td>...</td>\n",
       "      <td>...</td>\n",
       "    </tr>\n",
       "    <tr>\n",
       "      <th>2020-12-31</th>\n",
       "      <td>22482</td>\n",
       "      <td>Sanaa</td>\n",
       "      <td>sanhan</td>\n",
       "      <td>Raymat Humayd Military Camp</td>\n",
       "      <td>Raymat Humayd Military Camp</td>\n",
       "      <td>military_security_target</td>\n",
       "      <td>military site</td>\n",
       "      <td>1</td>\n",
       "      <td>5.0</td>\n",
       "      <td>0</td>\n",
       "      <td>0</td>\n",
       "      <td>0</td>\n",
       "      <td>0</td>\n",
       "      <td>0</td>\n",
       "      <td>0</td>\n",
       "      <td>0.0</td>\n",
       "      <td>1</td>\n",
       "      <td>morning</td>\n",
       "    </tr>\n",
       "    <tr>\n",
       "      <th>2020-12-31</th>\n",
       "      <td>22483</td>\n",
       "      <td>Sanaa</td>\n",
       "      <td>sanhan</td>\n",
       "      <td>Raymat Humayd Military Camp</td>\n",
       "      <td>Raymat Humayd Military Camp</td>\n",
       "      <td>military_security_target</td>\n",
       "      <td>military site</td>\n",
       "      <td>1</td>\n",
       "      <td>2.0</td>\n",
       "      <td>0</td>\n",
       "      <td>0</td>\n",
       "      <td>0</td>\n",
       "      <td>0</td>\n",
       "      <td>0</td>\n",
       "      <td>0</td>\n",
       "      <td>0.0</td>\n",
       "      <td>2</td>\n",
       "      <td>morning</td>\n",
       "    </tr>\n",
       "    <tr>\n",
       "      <th>2020-12-31</th>\n",
       "      <td>22484</td>\n",
       "      <td>Sanaa</td>\n",
       "      <td>bani hushaysh</td>\n",
       "      <td>Wadi Rijam</td>\n",
       "      <td>Unknown</td>\n",
       "      <td>unknown</td>\n",
       "      <td>unknown</td>\n",
       "      <td>1</td>\n",
       "      <td>2.0</td>\n",
       "      <td>0</td>\n",
       "      <td>0</td>\n",
       "      <td>0</td>\n",
       "      <td>0</td>\n",
       "      <td>0</td>\n",
       "      <td>0</td>\n",
       "      <td>0.0</td>\n",
       "      <td>3</td>\n",
       "      <td>morning</td>\n",
       "    </tr>\n",
       "    <tr>\n",
       "      <th>2020-12-31</th>\n",
       "      <td>22485</td>\n",
       "      <td>Capital</td>\n",
       "      <td>bani al-harith</td>\n",
       "      <td>Ar Rahabah</td>\n",
       "      <td>Al-Daylami Air base</td>\n",
       "      <td>military_security_target</td>\n",
       "      <td>military site</td>\n",
       "      <td>1</td>\n",
       "      <td>1.0</td>\n",
       "      <td>0</td>\n",
       "      <td>0</td>\n",
       "      <td>0</td>\n",
       "      <td>0</td>\n",
       "      <td>0</td>\n",
       "      <td>0</td>\n",
       "      <td>0.0</td>\n",
       "      <td>1</td>\n",
       "      <td>morning</td>\n",
       "    </tr>\n",
       "    <tr>\n",
       "      <th>2020-12-31</th>\n",
       "      <td>22486</td>\n",
       "      <td>Marib</td>\n",
       "      <td>medghal al-jeda'an</td>\n",
       "      <td>NaN</td>\n",
       "      <td>Unknown</td>\n",
       "      <td>unknown</td>\n",
       "      <td>unknown</td>\n",
       "      <td>1</td>\n",
       "      <td>4.0</td>\n",
       "      <td>0</td>\n",
       "      <td>0</td>\n",
       "      <td>0</td>\n",
       "      <td>0</td>\n",
       "      <td>0</td>\n",
       "      <td>0</td>\n",
       "      <td>0.0</td>\n",
       "      <td>18</td>\n",
       "      <td>night</td>\n",
       "    </tr>\n",
       "  </tbody>\n",
       "</table>\n",
       "<p>22485 rows × 18 columns</p>\n",
       "</div>"
      ],
      "text/plain": [
       "            incident_id governorate            district  \\\n",
       "date                                                      \n",
       "2015-03-26            1     Capital      bani al-harith   \n",
       "2015-03-26            2     Capital      bani al-harith   \n",
       "2015-03-26            3     Capital      bani al-harith   \n",
       "2015-03-26            4     Capital          al-sab'ein   \n",
       "2015-03-26            5     Capital          al-thawrah   \n",
       "...                 ...         ...                 ...   \n",
       "2020-12-31        22482       Sanaa              sanhan   \n",
       "2020-12-31        22483       Sanaa              sanhan   \n",
       "2020-12-31        22484       Sanaa       bani hushaysh   \n",
       "2020-12-31        22485     Capital      bani al-harith   \n",
       "2020-12-31        22486       Marib  medghal al-jeda'an   \n",
       "\n",
       "                                   area                        target  \\\n",
       "date                                                                    \n",
       "2015-03-26                   Al-Rahabah            Al-Daylami Airbase   \n",
       "2015-03-26                      Airport  Sana'a International Airport   \n",
       "2015-03-26     Al-Sonblah Neighbourhood              Residential Area   \n",
       "2015-03-26                   Al-Nahdain           Presidential Palace   \n",
       "2015-03-26                   Al-Nahdhah  Former 1st Armoured Division   \n",
       "...                                 ...                           ...   \n",
       "2020-12-31  Raymat Humayd Military Camp   Raymat Humayd Military Camp   \n",
       "2020-12-31  Raymat Humayd Military Camp   Raymat Humayd Military Camp   \n",
       "2020-12-31                   Wadi Rijam                       Unknown   \n",
       "2020-12-31                   Ar Rahabah           Al-Daylami Air base   \n",
       "2020-12-31                          NaN                       Unknown   \n",
       "\n",
       "                       main_category      sub_category  min_air_raids  \\\n",
       "date                                                                    \n",
       "2015-03-26  military_security_target     military site              1   \n",
       "2015-03-26            infrastructure         transport              1   \n",
       "2015-03-26                  civilian  residential area              1   \n",
       "2015-03-26  military_security_target     military site              1   \n",
       "2015-03-26  military_security_target     military site              1   \n",
       "...                              ...               ...            ...   \n",
       "2020-12-31  military_security_target     military site              1   \n",
       "2020-12-31  military_security_target     military site              1   \n",
       "2020-12-31                   unknown           unknown              1   \n",
       "2020-12-31  military_security_target     military site              1   \n",
       "2020-12-31                   unknown           unknown              1   \n",
       "\n",
       "            max_air_raids  civilian_casualties  fatalities  woman_fatalities  \\\n",
       "date                                                                           \n",
       "2015-03-26            2.0                    0           0                 0   \n",
       "2015-03-26            2.0                    0           0                 0   \n",
       "2015-03-26            2.0                   29          21                 3   \n",
       "2015-03-26            2.0                    0           0                 0   \n",
       "2015-03-26            2.0                    0           0                 0   \n",
       "...                   ...                  ...         ...               ...   \n",
       "2020-12-31            5.0                    0           0                 0   \n",
       "2020-12-31            2.0                    0           0                 0   \n",
       "2020-12-31            2.0                    0           0                 0   \n",
       "2020-12-31            1.0                    0           0                 0   \n",
       "2020-12-31            4.0                    0           0                 0   \n",
       "\n",
       "            child_fatalities  injured  woman_injured  child_injured  \\\n",
       "date                                                                  \n",
       "2015-03-26                 0        0              0            0.0   \n",
       "2015-03-26                 0        0              0            0.0   \n",
       "2015-03-26                14        8              0            7.0   \n",
       "2015-03-26                 0        0              0            0.0   \n",
       "2015-03-26                 0        0              0            0.0   \n",
       "...                      ...      ...            ...            ...   \n",
       "2020-12-31                 0        0              0            0.0   \n",
       "2020-12-31                 0        0              0            0.0   \n",
       "2020-12-31                 0        0              0            0.0   \n",
       "2020-12-31                 0        0              0            0.0   \n",
       "2020-12-31                 0        0              0            0.0   \n",
       "\n",
       "           confirmed_time time_of_day  \n",
       "date                                   \n",
       "2015-03-26              2     morning  \n",
       "2015-03-26              2     morning  \n",
       "2015-03-26              2     morning  \n",
       "2015-03-26              3     morning  \n",
       "2015-03-26              3     morning  \n",
       "...                   ...         ...  \n",
       "2020-12-31              1     morning  \n",
       "2020-12-31              2     morning  \n",
       "2020-12-31              3     morning  \n",
       "2020-12-31              1     morning  \n",
       "2020-12-31             18       night  \n",
       "\n",
       "[22485 rows x 18 columns]"
      ]
     },
     "execution_count": 32,
     "metadata": {},
     "output_type": "execute_result"
    }
   ],
   "source": [
    "df"
   ]
  },
  {
   "cell_type": "code",
   "execution_count": 33,
   "metadata": {},
   "outputs": [
    {
     "data": {
      "text/html": [
       "<div>\n",
       "<style scoped>\n",
       "    .dataframe tbody tr th:only-of-type {\n",
       "        vertical-align: middle;\n",
       "    }\n",
       "\n",
       "    .dataframe tbody tr th {\n",
       "        vertical-align: top;\n",
       "    }\n",
       "\n",
       "    .dataframe thead th {\n",
       "        text-align: right;\n",
       "    }\n",
       "</style>\n",
       "<table border=\"1\" class=\"dataframe\">\n",
       "  <thead>\n",
       "    <tr style=\"text-align: right;\">\n",
       "      <th></th>\n",
       "      <th>incident_id</th>\n",
       "      <th>governorate</th>\n",
       "      <th>district</th>\n",
       "      <th>area</th>\n",
       "      <th>target</th>\n",
       "      <th>main_category</th>\n",
       "      <th>sub_category</th>\n",
       "      <th>min_air_raids</th>\n",
       "      <th>max_air_raids</th>\n",
       "      <th>civilian_casualties</th>\n",
       "      <th>fatalities</th>\n",
       "      <th>woman_fatalities</th>\n",
       "      <th>child_fatalities</th>\n",
       "      <th>injured</th>\n",
       "      <th>woman_injured</th>\n",
       "      <th>child_injured</th>\n",
       "      <th>confirmed_time</th>\n",
       "      <th>time_of_day</th>\n",
       "    </tr>\n",
       "    <tr>\n",
       "      <th>date</th>\n",
       "      <th></th>\n",
       "      <th></th>\n",
       "      <th></th>\n",
       "      <th></th>\n",
       "      <th></th>\n",
       "      <th></th>\n",
       "      <th></th>\n",
       "      <th></th>\n",
       "      <th></th>\n",
       "      <th></th>\n",
       "      <th></th>\n",
       "      <th></th>\n",
       "      <th></th>\n",
       "      <th></th>\n",
       "      <th></th>\n",
       "      <th></th>\n",
       "      <th></th>\n",
       "      <th></th>\n",
       "    </tr>\n",
       "  </thead>\n",
       "  <tbody>\n",
       "    <tr>\n",
       "      <th>2015-03-28</th>\n",
       "      <td>68</td>\n",
       "      <td>Capital</td>\n",
       "      <td>azal</td>\n",
       "      <td>Noqom</td>\n",
       "      <td>Weapons Storage</td>\n",
       "      <td>military_security_target</td>\n",
       "      <td>weapon storage</td>\n",
       "      <td>1</td>\n",
       "      <td>2.0</td>\n",
       "      <td>0</td>\n",
       "      <td>0</td>\n",
       "      <td>0</td>\n",
       "      <td>0</td>\n",
       "      <td>0</td>\n",
       "      <td>0</td>\n",
       "      <td>0.0</td>\n",
       "      <td>3</td>\n",
       "      <td>morning</td>\n",
       "    </tr>\n",
       "    <tr>\n",
       "      <th>2015-03-28</th>\n",
       "      <td>69</td>\n",
       "      <td>Capital</td>\n",
       "      <td>al-wahdah</td>\n",
       "      <td>Hadda</td>\n",
       "      <td>Residence of former Presiden Ali Abdullah Saleh</td>\n",
       "      <td>political_tribal</td>\n",
       "      <td>figure</td>\n",
       "      <td>1</td>\n",
       "      <td>2.0</td>\n",
       "      <td>0</td>\n",
       "      <td>0</td>\n",
       "      <td>0</td>\n",
       "      <td>0</td>\n",
       "      <td>0</td>\n",
       "      <td>0</td>\n",
       "      <td>0.0</td>\n",
       "      <td>3</td>\n",
       "      <td>morning</td>\n",
       "    </tr>\n",
       "    <tr>\n",
       "      <th>2015-03-28</th>\n",
       "      <td>70</td>\n",
       "      <td>Capital</td>\n",
       "      <td>bani al-harith</td>\n",
       "      <td>Al-Rahabah</td>\n",
       "      <td>Al-Daylami Airbase</td>\n",
       "      <td>military_security_target</td>\n",
       "      <td>military site</td>\n",
       "      <td>1</td>\n",
       "      <td>2.0</td>\n",
       "      <td>0</td>\n",
       "      <td>0</td>\n",
       "      <td>0</td>\n",
       "      <td>0</td>\n",
       "      <td>0</td>\n",
       "      <td>0</td>\n",
       "      <td>0.0</td>\n",
       "      <td>4</td>\n",
       "      <td>morning</td>\n",
       "    </tr>\n",
       "    <tr>\n",
       "      <th>2015-03-28</th>\n",
       "      <td>71</td>\n",
       "      <td>Capital</td>\n",
       "      <td>ma'ain</td>\n",
       "      <td>Al-Sunainah</td>\n",
       "      <td>Aviation College</td>\n",
       "      <td>military_security_target</td>\n",
       "      <td>military site</td>\n",
       "      <td>1</td>\n",
       "      <td>2.0</td>\n",
       "      <td>0</td>\n",
       "      <td>0</td>\n",
       "      <td>0</td>\n",
       "      <td>0</td>\n",
       "      <td>0</td>\n",
       "      <td>0</td>\n",
       "      <td>0.0</td>\n",
       "      <td>Unknown</td>\n",
       "      <td>morning</td>\n",
       "    </tr>\n",
       "    <tr>\n",
       "      <th>2015-03-28</th>\n",
       "      <td>72</td>\n",
       "      <td>Capital</td>\n",
       "      <td>al-thawrah</td>\n",
       "      <td>Al-Nahdhah</td>\n",
       "      <td>Former 1st Armoured Division</td>\n",
       "      <td>military_security_target</td>\n",
       "      <td>military site</td>\n",
       "      <td>1</td>\n",
       "      <td>2.0</td>\n",
       "      <td>0</td>\n",
       "      <td>0</td>\n",
       "      <td>0</td>\n",
       "      <td>0</td>\n",
       "      <td>0</td>\n",
       "      <td>0</td>\n",
       "      <td>0.0</td>\n",
       "      <td>19</td>\n",
       "      <td>night</td>\n",
       "    </tr>\n",
       "    <tr>\n",
       "      <th>...</th>\n",
       "      <td>...</td>\n",
       "      <td>...</td>\n",
       "      <td>...</td>\n",
       "      <td>...</td>\n",
       "      <td>...</td>\n",
       "      <td>...</td>\n",
       "      <td>...</td>\n",
       "      <td>...</td>\n",
       "      <td>...</td>\n",
       "      <td>...</td>\n",
       "      <td>...</td>\n",
       "      <td>...</td>\n",
       "      <td>...</td>\n",
       "      <td>...</td>\n",
       "      <td>...</td>\n",
       "      <td>...</td>\n",
       "      <td>...</td>\n",
       "      <td>...</td>\n",
       "    </tr>\n",
       "    <tr>\n",
       "      <th>2015-03-28</th>\n",
       "      <td>96</td>\n",
       "      <td>Saada</td>\n",
       "      <td>al-dhaher</td>\n",
       "      <td>Al-Malaheet</td>\n",
       "      <td>105th Infantry Brigade (Al-Kamb Military Camp)</td>\n",
       "      <td>military_security_target</td>\n",
       "      <td>military site</td>\n",
       "      <td>1</td>\n",
       "      <td>2.0</td>\n",
       "      <td>0</td>\n",
       "      <td>0</td>\n",
       "      <td>0</td>\n",
       "      <td>0</td>\n",
       "      <td>0</td>\n",
       "      <td>0</td>\n",
       "      <td>0.0</td>\n",
       "      <td>Unknown</td>\n",
       "      <td>night</td>\n",
       "    </tr>\n",
       "    <tr>\n",
       "      <th>2015-03-28</th>\n",
       "      <td>97</td>\n",
       "      <td>Saada</td>\n",
       "      <td>sa'ada</td>\n",
       "      <td>Qahzah</td>\n",
       "      <td>Al-Saifi Military Camp</td>\n",
       "      <td>military_security_target</td>\n",
       "      <td>military site</td>\n",
       "      <td>1</td>\n",
       "      <td>2.0</td>\n",
       "      <td>0</td>\n",
       "      <td>0</td>\n",
       "      <td>0</td>\n",
       "      <td>0</td>\n",
       "      <td>0</td>\n",
       "      <td>0</td>\n",
       "      <td>0.0</td>\n",
       "      <td>Unknown</td>\n",
       "      <td>night</td>\n",
       "    </tr>\n",
       "    <tr>\n",
       "      <th>2015-03-28</th>\n",
       "      <td>98</td>\n",
       "      <td>Saada</td>\n",
       "      <td>saqain</td>\n",
       "      <td>Al-Sha'af</td>\n",
       "      <td>Unknown</td>\n",
       "      <td>unknown</td>\n",
       "      <td>unknown</td>\n",
       "      <td>1</td>\n",
       "      <td>3.0</td>\n",
       "      <td>0</td>\n",
       "      <td>0</td>\n",
       "      <td>0</td>\n",
       "      <td>0</td>\n",
       "      <td>0</td>\n",
       "      <td>0</td>\n",
       "      <td>0.0</td>\n",
       "      <td>Unknown</td>\n",
       "      <td>night</td>\n",
       "    </tr>\n",
       "    <tr>\n",
       "      <th>2015-03-28</th>\n",
       "      <td>99</td>\n",
       "      <td>Saada</td>\n",
       "      <td>sa'ada</td>\n",
       "      <td>Kahlan</td>\n",
       "      <td>Kahlan Military Camp</td>\n",
       "      <td>military_security_target</td>\n",
       "      <td>military site</td>\n",
       "      <td>1</td>\n",
       "      <td>8.0</td>\n",
       "      <td>0</td>\n",
       "      <td>0</td>\n",
       "      <td>0</td>\n",
       "      <td>0</td>\n",
       "      <td>0</td>\n",
       "      <td>0</td>\n",
       "      <td>0.0</td>\n",
       "      <td>23</td>\n",
       "      <td>night</td>\n",
       "    </tr>\n",
       "    <tr>\n",
       "      <th>2015-03-28</th>\n",
       "      <td>100</td>\n",
       "      <td>Saada</td>\n",
       "      <td>sa'ada</td>\n",
       "      <td>-</td>\n",
       "      <td>1st Artillery Brigade</td>\n",
       "      <td>military_security_target</td>\n",
       "      <td>military site</td>\n",
       "      <td>1</td>\n",
       "      <td>2.0</td>\n",
       "      <td>0</td>\n",
       "      <td>0</td>\n",
       "      <td>0</td>\n",
       "      <td>0</td>\n",
       "      <td>0</td>\n",
       "      <td>0</td>\n",
       "      <td>0.0</td>\n",
       "      <td>24</td>\n",
       "      <td>night</td>\n",
       "    </tr>\n",
       "  </tbody>\n",
       "</table>\n",
       "<p>33 rows × 18 columns</p>\n",
       "</div>"
      ],
      "text/plain": [
       "            incident_id governorate        district         area  \\\n",
       "date                                                               \n",
       "2015-03-28           68     Capital            azal        Noqom   \n",
       "2015-03-28           69     Capital       al-wahdah        Hadda   \n",
       "2015-03-28           70     Capital  bani al-harith   Al-Rahabah   \n",
       "2015-03-28           71     Capital          ma'ain  Al-Sunainah   \n",
       "2015-03-28           72     Capital      al-thawrah   Al-Nahdhah   \n",
       "...                 ...         ...             ...          ...   \n",
       "2015-03-28           96       Saada       al-dhaher  Al-Malaheet   \n",
       "2015-03-28           97       Saada          sa'ada       Qahzah   \n",
       "2015-03-28           98       Saada          saqain    Al-Sha'af   \n",
       "2015-03-28           99       Saada          sa'ada       Kahlan   \n",
       "2015-03-28          100       Saada          sa'ada            -   \n",
       "\n",
       "                                                     target  \\\n",
       "date                                                          \n",
       "2015-03-28                                  Weapons Storage   \n",
       "2015-03-28  Residence of former Presiden Ali Abdullah Saleh   \n",
       "2015-03-28                               Al-Daylami Airbase   \n",
       "2015-03-28                                 Aviation College   \n",
       "2015-03-28                     Former 1st Armoured Division   \n",
       "...                                                     ...   \n",
       "2015-03-28   105th Infantry Brigade (Al-Kamb Military Camp)   \n",
       "2015-03-28                           Al-Saifi Military Camp   \n",
       "2015-03-28                                          Unknown   \n",
       "2015-03-28                             Kahlan Military Camp   \n",
       "2015-03-28                            1st Artillery Brigade   \n",
       "\n",
       "                       main_category    sub_category  min_air_raids  \\\n",
       "date                                                                  \n",
       "2015-03-28  military_security_target  weapon storage              1   \n",
       "2015-03-28          political_tribal          figure              1   \n",
       "2015-03-28  military_security_target   military site              1   \n",
       "2015-03-28  military_security_target   military site              1   \n",
       "2015-03-28  military_security_target   military site              1   \n",
       "...                              ...             ...            ...   \n",
       "2015-03-28  military_security_target   military site              1   \n",
       "2015-03-28  military_security_target   military site              1   \n",
       "2015-03-28                   unknown         unknown              1   \n",
       "2015-03-28  military_security_target   military site              1   \n",
       "2015-03-28  military_security_target   military site              1   \n",
       "\n",
       "            max_air_raids  civilian_casualties  fatalities  woman_fatalities  \\\n",
       "date                                                                           \n",
       "2015-03-28            2.0                    0           0                 0   \n",
       "2015-03-28            2.0                    0           0                 0   \n",
       "2015-03-28            2.0                    0           0                 0   \n",
       "2015-03-28            2.0                    0           0                 0   \n",
       "2015-03-28            2.0                    0           0                 0   \n",
       "...                   ...                  ...         ...               ...   \n",
       "2015-03-28            2.0                    0           0                 0   \n",
       "2015-03-28            2.0                    0           0                 0   \n",
       "2015-03-28            3.0                    0           0                 0   \n",
       "2015-03-28            8.0                    0           0                 0   \n",
       "2015-03-28            2.0                    0           0                 0   \n",
       "\n",
       "            child_fatalities  injured  woman_injured  child_injured  \\\n",
       "date                                                                  \n",
       "2015-03-28                 0        0              0            0.0   \n",
       "2015-03-28                 0        0              0            0.0   \n",
       "2015-03-28                 0        0              0            0.0   \n",
       "2015-03-28                 0        0              0            0.0   \n",
       "2015-03-28                 0        0              0            0.0   \n",
       "...                      ...      ...            ...            ...   \n",
       "2015-03-28                 0        0              0            0.0   \n",
       "2015-03-28                 0        0              0            0.0   \n",
       "2015-03-28                 0        0              0            0.0   \n",
       "2015-03-28                 0        0              0            0.0   \n",
       "2015-03-28                 0        0              0            0.0   \n",
       "\n",
       "           confirmed_time time_of_day  \n",
       "date                                   \n",
       "2015-03-28              3     morning  \n",
       "2015-03-28              3     morning  \n",
       "2015-03-28              4     morning  \n",
       "2015-03-28        Unknown     morning  \n",
       "2015-03-28             19       night  \n",
       "...                   ...         ...  \n",
       "2015-03-28        Unknown       night  \n",
       "2015-03-28        Unknown       night  \n",
       "2015-03-28        Unknown       night  \n",
       "2015-03-28             23       night  \n",
       "2015-03-28             24       night  \n",
       "\n",
       "[33 rows x 18 columns]"
      ]
     },
     "execution_count": 33,
     "metadata": {},
     "output_type": "execute_result"
    }
   ],
   "source": [
    "df[df.index == '2015-03-28']"
   ]
  },
  {
   "cell_type": "code",
   "execution_count": null,
   "metadata": {},
   "outputs": [],
   "source": []
  },
  {
   "cell_type": "code",
   "execution_count": null,
   "metadata": {},
   "outputs": [],
   "source": []
  },
  {
   "cell_type": "code",
   "execution_count": null,
   "metadata": {},
   "outputs": [],
   "source": []
  },
  {
   "cell_type": "code",
   "execution_count": null,
   "metadata": {},
   "outputs": [],
   "source": []
  }
 ],
 "metadata": {
  "kernelspec": {
   "display_name": "Python 3",
   "language": "python",
   "name": "python3"
  },
  "language_info": {
   "codemirror_mode": {
    "name": "ipython",
    "version": 3
   },
   "file_extension": ".py",
   "mimetype": "text/x-python",
   "name": "python",
   "nbconvert_exporter": "python",
   "pygments_lexer": "ipython3",
   "version": "3.8.5"
  },
  "toc": {
   "base_numbering": 1,
   "nav_menu": {},
   "number_sections": true,
   "sideBar": true,
   "skip_h1_title": false,
   "title_cell": "Table of Contents",
   "title_sidebar": "Contents",
   "toc_cell": false,
   "toc_position": {},
   "toc_section_display": true,
   "toc_window_display": false
  }
 },
 "nbformat": 4,
 "nbformat_minor": 4
}
