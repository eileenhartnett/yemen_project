{
 "cells": [
  {
   "cell_type": "code",
   "execution_count": 54,
   "metadata": {},
   "outputs": [],
   "source": [
    "import pandas as pd\n",
    "import numpy as np\n",
    "import matplotlib.pyplot as plt\n",
    "\n",
    "from sklearn.model_selection import train_test_split\n",
    "from sklearn.preprocessing import StandardScaler\n",
    "from sklearn.metrics import accuracy_score\n",
    "\n",
    "from statsmodels.tsa.arima.model import ARIMA\n",
    "from statsmodels.tsa.stattools import adfuller\n",
    "\n",
    "from tensorflow.keras import utils\n",
    "from tensorflow.keras.utils import to_categorical\n",
    "from tensorflow.keras.models import Sequential\n",
    "from tensorflow.keras.layers import Dense, Dropout\n",
    "from tensorflow.keras.optimizers import Adam"
   ]
  },
  {
   "cell_type": "code",
   "execution_count": 55,
   "metadata": {},
   "outputs": [],
   "source": [
    "df = pd.read_csv('data/clean_df.csv')"
   ]
  },
  {
   "cell_type": "code",
   "execution_count": 56,
   "metadata": {},
   "outputs": [
    {
     "data": {
      "text/plain": "         date  incident_id governorate        district  \\\n0  2015-03-26            1       Sanaa  bani al-harith   \n1  2015-03-26            2       Sanaa  bani al-harith   \n2  2015-03-26            3       Sanaa  bani al-harith   \n3  2015-03-26            4       Sanaa      al-sab'ein   \n4  2015-03-26            5       Sanaa      al-thawrah   \n\n                       area                        target  \\\n0                Al-Rahabah            Al-Daylami Airbase   \n1                   Airport  Sana'a International Airport   \n2  Al-Sonblah Neighbourhood              Residential Area   \n3                Al-Nahdain           Presidential Palace   \n4                Al-Nahdhah  Former 1st Armoured Division   \n\n              main_category      sub_category  min_air_raids  max_air_raids  \\\n0  military_security_target     military site              1            2.0   \n1            infrastructure         transport              1            2.0   \n2                  civilian  residential area              1            2.0   \n3  military_security_target     military site              1            2.0   \n4  military_security_target     military site              1            2.0   \n\n   civilian_casualties  fatalities  woman_fatalities  child_fatalities  \\\n0                    0           0                 0                 0   \n1                    0           0                 0                 0   \n2                   29          21                 3                14   \n3                    0           0                 0                 0   \n4                    0           0                 0                 0   \n\n   injured  woman_injured  child_injured confirmed_time time_of_day  \n0        0              0            0.0              2     morning  \n1        0              0            0.0              2     morning  \n2        8              0            7.0              2     morning  \n3        0              0            0.0              3     morning  \n4        0              0            0.0              3     morning  ",
      "text/html": "<div>\n<style scoped>\n    .dataframe tbody tr th:only-of-type {\n        vertical-align: middle;\n    }\n\n    .dataframe tbody tr th {\n        vertical-align: top;\n    }\n\n    .dataframe thead th {\n        text-align: right;\n    }\n</style>\n<table border=\"1\" class=\"dataframe\">\n  <thead>\n    <tr style=\"text-align: right;\">\n      <th></th>\n      <th>date</th>\n      <th>incident_id</th>\n      <th>governorate</th>\n      <th>district</th>\n      <th>area</th>\n      <th>target</th>\n      <th>main_category</th>\n      <th>sub_category</th>\n      <th>min_air_raids</th>\n      <th>max_air_raids</th>\n      <th>civilian_casualties</th>\n      <th>fatalities</th>\n      <th>woman_fatalities</th>\n      <th>child_fatalities</th>\n      <th>injured</th>\n      <th>woman_injured</th>\n      <th>child_injured</th>\n      <th>confirmed_time</th>\n      <th>time_of_day</th>\n    </tr>\n  </thead>\n  <tbody>\n    <tr>\n      <th>0</th>\n      <td>2015-03-26</td>\n      <td>1</td>\n      <td>Sanaa</td>\n      <td>bani al-harith</td>\n      <td>Al-Rahabah</td>\n      <td>Al-Daylami Airbase</td>\n      <td>military_security_target</td>\n      <td>military site</td>\n      <td>1</td>\n      <td>2.0</td>\n      <td>0</td>\n      <td>0</td>\n      <td>0</td>\n      <td>0</td>\n      <td>0</td>\n      <td>0</td>\n      <td>0.0</td>\n      <td>2</td>\n      <td>morning</td>\n    </tr>\n    <tr>\n      <th>1</th>\n      <td>2015-03-26</td>\n      <td>2</td>\n      <td>Sanaa</td>\n      <td>bani al-harith</td>\n      <td>Airport</td>\n      <td>Sana'a International Airport</td>\n      <td>infrastructure</td>\n      <td>transport</td>\n      <td>1</td>\n      <td>2.0</td>\n      <td>0</td>\n      <td>0</td>\n      <td>0</td>\n      <td>0</td>\n      <td>0</td>\n      <td>0</td>\n      <td>0.0</td>\n      <td>2</td>\n      <td>morning</td>\n    </tr>\n    <tr>\n      <th>2</th>\n      <td>2015-03-26</td>\n      <td>3</td>\n      <td>Sanaa</td>\n      <td>bani al-harith</td>\n      <td>Al-Sonblah Neighbourhood</td>\n      <td>Residential Area</td>\n      <td>civilian</td>\n      <td>residential area</td>\n      <td>1</td>\n      <td>2.0</td>\n      <td>29</td>\n      <td>21</td>\n      <td>3</td>\n      <td>14</td>\n      <td>8</td>\n      <td>0</td>\n      <td>7.0</td>\n      <td>2</td>\n      <td>morning</td>\n    </tr>\n    <tr>\n      <th>3</th>\n      <td>2015-03-26</td>\n      <td>4</td>\n      <td>Sanaa</td>\n      <td>al-sab'ein</td>\n      <td>Al-Nahdain</td>\n      <td>Presidential Palace</td>\n      <td>military_security_target</td>\n      <td>military site</td>\n      <td>1</td>\n      <td>2.0</td>\n      <td>0</td>\n      <td>0</td>\n      <td>0</td>\n      <td>0</td>\n      <td>0</td>\n      <td>0</td>\n      <td>0.0</td>\n      <td>3</td>\n      <td>morning</td>\n    </tr>\n    <tr>\n      <th>4</th>\n      <td>2015-03-26</td>\n      <td>5</td>\n      <td>Sanaa</td>\n      <td>al-thawrah</td>\n      <td>Al-Nahdhah</td>\n      <td>Former 1st Armoured Division</td>\n      <td>military_security_target</td>\n      <td>military site</td>\n      <td>1</td>\n      <td>2.0</td>\n      <td>0</td>\n      <td>0</td>\n      <td>0</td>\n      <td>0</td>\n      <td>0</td>\n      <td>0</td>\n      <td>0.0</td>\n      <td>3</td>\n      <td>morning</td>\n    </tr>\n  </tbody>\n</table>\n</div>"
     },
     "execution_count": 56,
     "metadata": {},
     "output_type": "execute_result"
    }
   ],
   "source": [
    "df.head()"
   ]
  },
  {
   "cell_type": "code",
   "execution_count": 66,
   "metadata": {},
   "outputs": [
    {
     "data": {
      "text/plain": "            incident_id  min_air_raids  max_air_raids  civilian_casualties  \\\ndate                                                                         \n2015-01-04         6758             31           63.0                    2   \n2015-01-05        29257             34          261.0                  197   \n2015-01-06        46224             32           72.0                   10   \n2015-01-07        71295             35          102.0                   11   \n2015-01-08        26255             10           60.0                   11   \n...                 ...            ...            ...                  ...   \n2020-12-27       202131              9           12.0                    0   \n2020-12-28       157269              7           14.0                    0   \n2020-12-29       157318              7           11.0                    0   \n2020-12-30        67437              3            6.0                    0   \n2020-12-31       134901              6           15.0                    0   \n\n            fatalities  woman_fatalities  child_fatalities  injured  \\\ndate                                                                  \n2015-01-04           2                 2                 0        0   \n2015-01-05          83                 8                 5      114   \n2015-01-06           5                 0                 0        5   \n2015-01-07           8                 2                 1        3   \n2015-01-08           8                 3                 2        3   \n...                ...               ...               ...      ...   \n2020-12-27           0                 0                 0        0   \n2020-12-28           0                 0                 0        0   \n2020-12-29           0                 0                 0        0   \n2020-12-30           0                 0                 0        0   \n2020-12-31           0                 0                 0        0   \n\n            woman_injured  child_injured  \ndate                                      \n2015-01-04              0            0.0  \n2015-01-05             14            9.0  \n2015-01-06              0            0.0  \n2015-01-07              0            2.0  \n2015-01-08              1            0.0  \n...                   ...            ...  \n2020-12-27              0            0.0  \n2020-12-28              0            0.0  \n2020-12-29              0            0.0  \n2020-12-30              0            0.0  \n2020-12-31              0            0.0  \n\n[2189 rows x 10 columns]",
      "text/html": "<div>\n<style scoped>\n    .dataframe tbody tr th:only-of-type {\n        vertical-align: middle;\n    }\n\n    .dataframe tbody tr th {\n        vertical-align: top;\n    }\n\n    .dataframe thead th {\n        text-align: right;\n    }\n</style>\n<table border=\"1\" class=\"dataframe\">\n  <thead>\n    <tr style=\"text-align: right;\">\n      <th></th>\n      <th>incident_id</th>\n      <th>min_air_raids</th>\n      <th>max_air_raids</th>\n      <th>civilian_casualties</th>\n      <th>fatalities</th>\n      <th>woman_fatalities</th>\n      <th>child_fatalities</th>\n      <th>injured</th>\n      <th>woman_injured</th>\n      <th>child_injured</th>\n    </tr>\n    <tr>\n      <th>date</th>\n      <th></th>\n      <th></th>\n      <th></th>\n      <th></th>\n      <th></th>\n      <th></th>\n      <th></th>\n      <th></th>\n      <th></th>\n      <th></th>\n    </tr>\n  </thead>\n  <tbody>\n    <tr>\n      <th>2015-01-04</th>\n      <td>6758</td>\n      <td>31</td>\n      <td>63.0</td>\n      <td>2</td>\n      <td>2</td>\n      <td>2</td>\n      <td>0</td>\n      <td>0</td>\n      <td>0</td>\n      <td>0.0</td>\n    </tr>\n    <tr>\n      <th>2015-01-05</th>\n      <td>29257</td>\n      <td>34</td>\n      <td>261.0</td>\n      <td>197</td>\n      <td>83</td>\n      <td>8</td>\n      <td>5</td>\n      <td>114</td>\n      <td>14</td>\n      <td>9.0</td>\n    </tr>\n    <tr>\n      <th>2015-01-06</th>\n      <td>46224</td>\n      <td>32</td>\n      <td>72.0</td>\n      <td>10</td>\n      <td>5</td>\n      <td>0</td>\n      <td>0</td>\n      <td>5</td>\n      <td>0</td>\n      <td>0.0</td>\n    </tr>\n    <tr>\n      <th>2015-01-07</th>\n      <td>71295</td>\n      <td>35</td>\n      <td>102.0</td>\n      <td>11</td>\n      <td>8</td>\n      <td>2</td>\n      <td>1</td>\n      <td>3</td>\n      <td>0</td>\n      <td>2.0</td>\n    </tr>\n    <tr>\n      <th>2015-01-08</th>\n      <td>26255</td>\n      <td>10</td>\n      <td>60.0</td>\n      <td>11</td>\n      <td>8</td>\n      <td>3</td>\n      <td>2</td>\n      <td>3</td>\n      <td>1</td>\n      <td>0.0</td>\n    </tr>\n    <tr>\n      <th>...</th>\n      <td>...</td>\n      <td>...</td>\n      <td>...</td>\n      <td>...</td>\n      <td>...</td>\n      <td>...</td>\n      <td>...</td>\n      <td>...</td>\n      <td>...</td>\n      <td>...</td>\n    </tr>\n    <tr>\n      <th>2020-12-27</th>\n      <td>202131</td>\n      <td>9</td>\n      <td>12.0</td>\n      <td>0</td>\n      <td>0</td>\n      <td>0</td>\n      <td>0</td>\n      <td>0</td>\n      <td>0</td>\n      <td>0.0</td>\n    </tr>\n    <tr>\n      <th>2020-12-28</th>\n      <td>157269</td>\n      <td>7</td>\n      <td>14.0</td>\n      <td>0</td>\n      <td>0</td>\n      <td>0</td>\n      <td>0</td>\n      <td>0</td>\n      <td>0</td>\n      <td>0.0</td>\n    </tr>\n    <tr>\n      <th>2020-12-29</th>\n      <td>157318</td>\n      <td>7</td>\n      <td>11.0</td>\n      <td>0</td>\n      <td>0</td>\n      <td>0</td>\n      <td>0</td>\n      <td>0</td>\n      <td>0</td>\n      <td>0.0</td>\n    </tr>\n    <tr>\n      <th>2020-12-30</th>\n      <td>67437</td>\n      <td>3</td>\n      <td>6.0</td>\n      <td>0</td>\n      <td>0</td>\n      <td>0</td>\n      <td>0</td>\n      <td>0</td>\n      <td>0</td>\n      <td>0.0</td>\n    </tr>\n    <tr>\n      <th>2020-12-31</th>\n      <td>134901</td>\n      <td>6</td>\n      <td>15.0</td>\n      <td>0</td>\n      <td>0</td>\n      <td>0</td>\n      <td>0</td>\n      <td>0</td>\n      <td>0</td>\n      <td>0.0</td>\n    </tr>\n  </tbody>\n</table>\n<p>2189 rows × 10 columns</p>\n</div>"
     },
     "execution_count": 66,
     "metadata": {},
     "output_type": "execute_result"
    }
   ],
   "source": [
    "df['date'] = pd.to_datetime(df.date)\n",
    "df.index = df['date']\n",
    "df.resample('D').sum()\n",
    "\n",
    "# df.set_index('date', inplace=True)\n",
    "# df.index = pd.to_datetime(df.index)\n",
    "#df.index = pd.DatetimeIndex(df.index).to_period('D')"
   ]
  },
  {
   "cell_type": "code",
   "execution_count": 58,
   "metadata": {},
   "outputs": [],
   "source": [
    "y_train, y_test = train_test_split(df['civilian_casualties'], random_state=6, shuffle=False)"
   ]
  },
  {
   "cell_type": "code",
   "execution_count": 59,
   "metadata": {},
   "outputs": [
    {
     "data": {
      "text/plain": "True"
     },
     "execution_count": 59,
     "metadata": {},
     "output_type": "execute_result"
    }
   ],
   "source": [
    "df.index.is_monotonic"
   ]
  },
  {
   "cell_type": "code",
   "execution_count": 60,
   "metadata": {},
   "outputs": [],
   "source": [
    "model = ARIMA(endog=y_train, order=(1, 0, 1))"
   ]
  },
  {
   "cell_type": "code",
   "execution_count": 61,
   "metadata": {},
   "outputs": [
    {
     "data": {
      "text/plain": "RangeIndex(start=0, stop=22485, step=1)"
     },
     "execution_count": 61,
     "metadata": {},
     "output_type": "execute_result"
    }
   ],
   "source": [
    "df['civilian_casualties'].index"
   ]
  },
  {
   "cell_type": "code",
   "execution_count": 61,
   "metadata": {},
   "outputs": [],
   "source": []
  }
 ],
 "metadata": {
  "kernelspec": {
   "display_name": "Python 3",
   "language": "python",
   "name": "python3"
  },
  "language_info": {
   "codemirror_mode": {
    "name": "ipython",
    "version": 3
   },
   "file_extension": ".py",
   "mimetype": "text/x-python",
   "name": "python",
   "nbconvert_exporter": "python",
   "pygments_lexer": "ipython3",
   "version": "3.8.5"
  }
 },
 "nbformat": 4,
 "nbformat_minor": 4
}