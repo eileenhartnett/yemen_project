{
 "cells": [
  {
   "cell_type": "code",
   "execution_count": 1,
   "metadata": {},
   "outputs": [],
   "source": [
    "import pandas as pd\n",
    "import numpy as np\n",
    "import matplotlib.pyplot as plt\n",
    "\n",
    "from sklearn.model_selection import train_test_split\n",
    "from sklearn.preprocessing import StandardScaler\n",
    "from sklearn.metrics import accuracy_score\n",
    "\n",
    "from statsmodels.tsa.arima.model import ARIMA\n",
    "from statsmodels.tsa.stattools import adfuller\n",
    "\n",
    "from tensorflow.keras import utils\n",
    "from tensorflow.keras.utils import to_categorical\n",
    "from tensorflow.keras.models import Sequential\n",
    "from tensorflow.keras.layers import Dense, Dropout\n",
    "from tensorflow.keras.optimizers import Adam"
   ]
  },
  {
   "cell_type": "code",
   "execution_count": 2,
   "metadata": {},
   "outputs": [],
   "source": [
    "df = pd.read_csv('data/clean_df.csv')"
   ]
  },
  {
   "cell_type": "code",
   "execution_count": 3,
   "metadata": {},
   "outputs": [
    {
     "data": {
      "text/html": [
       "<div>\n",
       "<style scoped>\n",
       "    .dataframe tbody tr th:only-of-type {\n",
       "        vertical-align: middle;\n",
       "    }\n",
       "\n",
       "    .dataframe tbody tr th {\n",
       "        vertical-align: top;\n",
       "    }\n",
       "\n",
       "    .dataframe thead th {\n",
       "        text-align: right;\n",
       "    }\n",
       "</style>\n",
       "<table border=\"1\" class=\"dataframe\">\n",
       "  <thead>\n",
       "    <tr style=\"text-align: right;\">\n",
       "      <th></th>\n",
       "      <th>date</th>\n",
       "      <th>incident_id</th>\n",
       "      <th>governorate</th>\n",
       "      <th>district</th>\n",
       "      <th>area</th>\n",
       "      <th>target</th>\n",
       "      <th>main_category</th>\n",
       "      <th>sub_category</th>\n",
       "      <th>min_air_raids</th>\n",
       "      <th>max_air_raids</th>\n",
       "      <th>civilian_casualties</th>\n",
       "      <th>fatalities</th>\n",
       "      <th>woman_fatalities</th>\n",
       "      <th>child_fatalities</th>\n",
       "      <th>injured</th>\n",
       "      <th>woman_injured</th>\n",
       "      <th>child_injured</th>\n",
       "      <th>confirmed_time</th>\n",
       "      <th>time_of_day</th>\n",
       "    </tr>\n",
       "  </thead>\n",
       "  <tbody>\n",
       "    <tr>\n",
       "      <th>0</th>\n",
       "      <td>2015-03-26</td>\n",
       "      <td>1</td>\n",
       "      <td>Sanaa</td>\n",
       "      <td>bani al-harith</td>\n",
       "      <td>Al-Rahabah</td>\n",
       "      <td>Al-Daylami Airbase</td>\n",
       "      <td>military_security_target</td>\n",
       "      <td>military site</td>\n",
       "      <td>1</td>\n",
       "      <td>2.0</td>\n",
       "      <td>0</td>\n",
       "      <td>0</td>\n",
       "      <td>0</td>\n",
       "      <td>0</td>\n",
       "      <td>0</td>\n",
       "      <td>0</td>\n",
       "      <td>0.0</td>\n",
       "      <td>2</td>\n",
       "      <td>morning</td>\n",
       "    </tr>\n",
       "    <tr>\n",
       "      <th>1</th>\n",
       "      <td>2015-03-26</td>\n",
       "      <td>2</td>\n",
       "      <td>Sanaa</td>\n",
       "      <td>bani al-harith</td>\n",
       "      <td>Airport</td>\n",
       "      <td>Sana'a International Airport</td>\n",
       "      <td>infrastructure</td>\n",
       "      <td>transport</td>\n",
       "      <td>1</td>\n",
       "      <td>2.0</td>\n",
       "      <td>0</td>\n",
       "      <td>0</td>\n",
       "      <td>0</td>\n",
       "      <td>0</td>\n",
       "      <td>0</td>\n",
       "      <td>0</td>\n",
       "      <td>0.0</td>\n",
       "      <td>2</td>\n",
       "      <td>morning</td>\n",
       "    </tr>\n",
       "    <tr>\n",
       "      <th>2</th>\n",
       "      <td>2015-03-26</td>\n",
       "      <td>3</td>\n",
       "      <td>Sanaa</td>\n",
       "      <td>bani al-harith</td>\n",
       "      <td>Al-Sonblah Neighbourhood</td>\n",
       "      <td>Residential Area</td>\n",
       "      <td>civilian</td>\n",
       "      <td>residential area</td>\n",
       "      <td>1</td>\n",
       "      <td>2.0</td>\n",
       "      <td>29</td>\n",
       "      <td>21</td>\n",
       "      <td>3</td>\n",
       "      <td>14</td>\n",
       "      <td>8</td>\n",
       "      <td>0</td>\n",
       "      <td>7.0</td>\n",
       "      <td>2</td>\n",
       "      <td>morning</td>\n",
       "    </tr>\n",
       "    <tr>\n",
       "      <th>3</th>\n",
       "      <td>2015-03-26</td>\n",
       "      <td>4</td>\n",
       "      <td>Sanaa</td>\n",
       "      <td>al-sab'ein</td>\n",
       "      <td>Al-Nahdain</td>\n",
       "      <td>Presidential Palace</td>\n",
       "      <td>military_security_target</td>\n",
       "      <td>military site</td>\n",
       "      <td>1</td>\n",
       "      <td>2.0</td>\n",
       "      <td>0</td>\n",
       "      <td>0</td>\n",
       "      <td>0</td>\n",
       "      <td>0</td>\n",
       "      <td>0</td>\n",
       "      <td>0</td>\n",
       "      <td>0.0</td>\n",
       "      <td>3</td>\n",
       "      <td>morning</td>\n",
       "    </tr>\n",
       "    <tr>\n",
       "      <th>4</th>\n",
       "      <td>2015-03-26</td>\n",
       "      <td>5</td>\n",
       "      <td>Sanaa</td>\n",
       "      <td>al-thawrah</td>\n",
       "      <td>Al-Nahdhah</td>\n",
       "      <td>Former 1st Armoured Division</td>\n",
       "      <td>military_security_target</td>\n",
       "      <td>military site</td>\n",
       "      <td>1</td>\n",
       "      <td>2.0</td>\n",
       "      <td>0</td>\n",
       "      <td>0</td>\n",
       "      <td>0</td>\n",
       "      <td>0</td>\n",
       "      <td>0</td>\n",
       "      <td>0</td>\n",
       "      <td>0.0</td>\n",
       "      <td>3</td>\n",
       "      <td>morning</td>\n",
       "    </tr>\n",
       "  </tbody>\n",
       "</table>\n",
       "</div>"
      ],
      "text/plain": [
       "         date  incident_id governorate        district  \\\n",
       "0  2015-03-26            1       Sanaa  bani al-harith   \n",
       "1  2015-03-26            2       Sanaa  bani al-harith   \n",
       "2  2015-03-26            3       Sanaa  bani al-harith   \n",
       "3  2015-03-26            4       Sanaa      al-sab'ein   \n",
       "4  2015-03-26            5       Sanaa      al-thawrah   \n",
       "\n",
       "                       area                        target  \\\n",
       "0                Al-Rahabah            Al-Daylami Airbase   \n",
       "1                   Airport  Sana'a International Airport   \n",
       "2  Al-Sonblah Neighbourhood              Residential Area   \n",
       "3                Al-Nahdain           Presidential Palace   \n",
       "4                Al-Nahdhah  Former 1st Armoured Division   \n",
       "\n",
       "              main_category      sub_category  min_air_raids  max_air_raids  \\\n",
       "0  military_security_target     military site              1            2.0   \n",
       "1            infrastructure         transport              1            2.0   \n",
       "2                  civilian  residential area              1            2.0   \n",
       "3  military_security_target     military site              1            2.0   \n",
       "4  military_security_target     military site              1            2.0   \n",
       "\n",
       "   civilian_casualties  fatalities  woman_fatalities  child_fatalities  \\\n",
       "0                    0           0                 0                 0   \n",
       "1                    0           0                 0                 0   \n",
       "2                   29          21                 3                14   \n",
       "3                    0           0                 0                 0   \n",
       "4                    0           0                 0                 0   \n",
       "\n",
       "   injured  woman_injured  child_injured confirmed_time time_of_day  \n",
       "0        0              0            0.0              2     morning  \n",
       "1        0              0            0.0              2     morning  \n",
       "2        8              0            7.0              2     morning  \n",
       "3        0              0            0.0              3     morning  \n",
       "4        0              0            0.0              3     morning  "
      ]
     },
     "execution_count": 3,
     "metadata": {},
     "output_type": "execute_result"
    }
   ],
   "source": [
    "df.head()"
   ]
  },
  {
   "cell_type": "code",
   "execution_count": 4,
   "metadata": {},
   "outputs": [],
   "source": [
    "df.set_index('date', inplace=True)\n",
    "df.index = pd.to_datetime(df.index)\n",
    "df.index = pd.DatetimeIndex(df.index).to_period('D')"
   ]
  },
  {
   "cell_type": "code",
   "execution_count": 5,
   "metadata": {},
   "outputs": [],
   "source": [
    "y_train, y_test = train_test_split(df['civilian_casualties'], random_state=6, shuffle=False)"
   ]
  },
  {
   "cell_type": "code",
   "execution_count": 17,
   "metadata": {},
   "outputs": [
    {
     "data": {
      "text/plain": [
       "False"
      ]
     },
     "execution_count": 17,
     "metadata": {},
     "output_type": "execute_result"
    }
   ],
   "source": [
    "df.index.is_monotonic"
   ]
  },
  {
   "cell_type": "code",
   "execution_count": 6,
   "metadata": {},
   "outputs": [
    {
     "name": "stderr",
     "output_type": "stream",
     "text": [
      "/Users/garrettnelson/opt/anaconda3/lib/python3.8/site-packages/statsmodels/tsa/base/tsa_model.py:585: ValueWarning: A date index has been provided, but it is not monotonic and so will be ignored when e.g. forecasting.\n",
      "  warnings.warn('A date index has been provided, but it is not'\n",
      "/Users/garrettnelson/opt/anaconda3/lib/python3.8/site-packages/statsmodels/tsa/base/tsa_model.py:585: ValueWarning: A date index has been provided, but it is not monotonic and so will be ignored when e.g. forecasting.\n",
      "  warnings.warn('A date index has been provided, but it is not'\n",
      "/Users/garrettnelson/opt/anaconda3/lib/python3.8/site-packages/statsmodels/tsa/base/tsa_model.py:585: ValueWarning: A date index has been provided, but it is not monotonic and so will be ignored when e.g. forecasting.\n",
      "  warnings.warn('A date index has been provided, but it is not'\n"
     ]
    }
   ],
   "source": [
    "model = ARIMA(endog=y_train, order=(1, 0, 1))"
   ]
  },
  {
   "cell_type": "code",
   "execution_count": 7,
   "metadata": {},
   "outputs": [
    {
     "data": {
      "text/plain": [
       "PeriodIndex(['2015-03-26', '2015-03-26', '2015-03-26', '2015-03-26',\n",
       "             '2015-03-26', '2015-03-26', '2015-03-26', '2015-03-26',\n",
       "             '2015-03-26', '2015-03-26',\n",
       "             ...\n",
       "             '2020-12-29', '2020-12-30', '2020-12-30', '2020-12-30',\n",
       "             '2020-12-31', '2020-12-31', '2020-12-31', '2020-12-31',\n",
       "             '2020-12-31', '2020-12-31'],\n",
       "            dtype='period[D]', name='date', length=22485, freq='D')"
      ]
     },
     "execution_count": 7,
     "metadata": {},
     "output_type": "execute_result"
    }
   ],
   "source": [
    "df['civilian_casualties'].index"
   ]
  },
  {
   "cell_type": "code",
   "execution_count": null,
   "metadata": {},
   "outputs": [],
   "source": []
  }
 ],
 "metadata": {
  "kernelspec": {
   "display_name": "Python 3",
   "language": "python",
   "name": "python3"
  },
  "language_info": {
   "codemirror_mode": {
    "name": "ipython",
    "version": 3
   },
   "file_extension": ".py",
   "mimetype": "text/x-python",
   "name": "python",
   "nbconvert_exporter": "python",
   "pygments_lexer": "ipython3",
   "version": "3.8.5"
  }
 },
 "nbformat": 4,
 "nbformat_minor": 4
}
